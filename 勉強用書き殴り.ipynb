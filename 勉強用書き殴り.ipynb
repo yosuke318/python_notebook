{
  "nbformat": 4,
  "nbformat_minor": 0,
  "metadata": {
    "colab": {
      "provenance": [],
      "authorship_tag": "ABX9TyOSSPvAzca6KQwqKNsFVtNv",
      "include_colab_link": true
    },
    "kernelspec": {
      "name": "python3",
      "display_name": "Python 3"
    },
    "language_info": {
      "name": "python"
    }
  },
  "cells": [
    {
      "cell_type": "markdown",
      "metadata": {
        "id": "view-in-github",
        "colab_type": "text"
      },
      "source": [
        "<a href=\"https://colab.research.google.com/github/yosuke318/python_notebook/blob/main/%E5%8B%89%E5%BC%B7%E7%94%A8%E6%9B%B8%E3%81%8D%E6%AE%B4%E3%82%8A.ipynb\" target=\"_parent\"><img src=\"https://colab.research.google.com/assets/colab-badge.svg\" alt=\"Open In Colab\"/></a>"
      ]
    },
    {
      "cell_type": "code",
      "execution_count": 11,
      "metadata": {
        "colab": {
          "base_uri": "https://localhost:8080/"
        },
        "id": "IT-Ez-9J7B51",
        "outputId": "7fc43a57-b943-4c05-c0df-a017c7eec38f"
      },
      "outputs": [
        {
          "output_type": "execute_result",
          "data": {
            "text/plain": [
              "0"
            ]
          },
          "metadata": {},
          "execution_count": 11
        }
      ],
      "source": [
        "tuple = (1,2,3,4,1,2)\n",
        "\n",
        "type(tuple)\n",
        "\n",
        "tuple.index(1)"
      ]
    },
    {
      "cell_type": "code",
      "source": [
        "t = ([1,2,3],4,5)\n",
        "\n",
        "t[0][1]=100\n",
        "\n",
        "print(t)"
      ],
      "metadata": {
        "id": "XS7jbPqm7dy9"
      },
      "execution_count": 13,
      "outputs": []
    },
    {
      "cell_type": "code",
      "source": [
        "t = 1,2,3\n",
        "type(t)\n",
        "\n",
        "t= (1, )\n",
        "\n",
        "type(t)\n",
        "\n",
        "t=(1)\n",
        "\n",
        "type(t)\n",
        "\n"
      ],
      "metadata": {
        "colab": {
          "base_uri": "https://localhost:8080/"
        },
        "id": "vJceW3Mz8E3M",
        "outputId": "19272d72-e10c-4129-be05-e6f2124d6016"
      },
      "execution_count": 20,
      "outputs": [
        {
          "output_type": "execute_result",
          "data": {
            "text/plain": [
              "int"
            ]
          },
          "metadata": {},
          "execution_count": 20
        }
      ]
    },
    {
      "cell_type": "code",
      "source": [
        "new_tuple = (1,3,4) + (1,3,4)\n",
        "\n",
        "print(new_tuple)"
      ],
      "metadata": {
        "colab": {
          "base_uri": "https://localhost:8080/"
        },
        "id": "UJRLKroS8oam",
        "outputId": "b267323a-c288-45a2-a9a1-5f048dd98424"
      },
      "execution_count": 23,
      "outputs": [
        {
          "output_type": "stream",
          "name": "stdout",
          "text": [
            "(1, 3, 4, 1, 3, 4)\n"
          ]
        }
      ]
    },
    {
      "cell_type": "code",
      "source": [
        "num_tuple = (12, 20)\n",
        "# タプルのアンパッキングっていうらしい\n",
        "x, y = num_tuple\n",
        "print(x, y)"
      ],
      "metadata": {
        "colab": {
          "base_uri": "https://localhost:8080/"
        },
        "id": "Mh2aESHW8ue_",
        "outputId": "d1d99154-f768-478a-f005-23fec191505c"
      },
      "execution_count": 27,
      "outputs": [
        {
          "output_type": "stream",
          "name": "stdout",
          "text": [
            "12 20\n"
          ]
        }
      ]
    },
    {
      "cell_type": "code",
      "source": [
        "x, y = 10, 20\n",
        "\n",
        "print(x, y)\n",
        "\n",
        "min, max = 0, 100\n",
        "\n",
        "print(min, max)"
      ],
      "metadata": {
        "colab": {
          "base_uri": "https://localhost:8080/"
        },
        "id": "3FCrEJLe8_a8",
        "outputId": "f8c743bd-a92c-4971-b447-b527ec636443"
      },
      "execution_count": 30,
      "outputs": [
        {
          "output_type": "stream",
          "name": "stdout",
          "text": [
            "10 20\n",
            "0 100\n"
          ]
        }
      ]
    },
    {
      "cell_type": "code",
      "source": [
        "i = 10\n",
        "j = 20\n",
        "\n",
        "temp = i\n",
        "\n",
        "i= j\n",
        "j = temp\n",
        "print(i, j)"
      ],
      "metadata": {
        "colab": {
          "base_uri": "https://localhost:8080/"
        },
        "id": "bMD9A2NN9JrF",
        "outputId": "bee6a92c-9816-4a3d-b646-7a42bc5c8052"
      },
      "execution_count": 31,
      "outputs": [
        {
          "output_type": "stream",
          "name": "stdout",
          "text": [
            "20 10\n"
          ]
        }
      ]
    },
    {
      "cell_type": "code",
      "source": [
        "a = 10\n",
        "b = 20\n",
        "print(a, b)\n",
        "a, b= b, a\n",
        "# アンパッキングで変数の入れ替えが1行で！\n",
        "print(a, b)"
      ],
      "metadata": {
        "colab": {
          "base_uri": "https://localhost:8080/"
        },
        "id": "oE190RSr9mD3",
        "outputId": "04680648-5c7e-41f4-ab43-d64eaa47ab68"
      },
      "execution_count": 32,
      "outputs": [
        {
          "output_type": "stream",
          "name": "stdout",
          "text": [
            "10 20\n",
            "20 10\n"
          ]
        }
      ]
    },
    {
      "cell_type": "code",
      "source": [
        "def g_hello():\n",
        "  yield 'hello 1'\n",
        "  yield 'hello 2'\n",
        "  yield 'hello 3'\n",
        "\n",
        "g = g_hello()\n",
        "\n",
        "print(next(g))\n",
        "print(next(g))\n",
        "print(next(g))\n"
      ],
      "metadata": {
        "colab": {
          "base_uri": "https://localhost:8080/"
        },
        "id": "RjnsUo2ThpZo",
        "outputId": "de43ceb7-04d8-4459-ab71-a114e8dd4549"
      },
      "execution_count": 7,
      "outputs": [
        {
          "output_type": "stream",
          "name": "stdout",
          "text": [
            "hello 1\n",
            "hello 2\n",
            "hello 3\n"
          ]
        }
      ]
    },
    {
      "cell_type": "code",
      "source": [
        "def s_hello():\n",
        "  yield 'hello 1'\n",
        "  yield 'hello 2'\n",
        "  yield 'hello 3'\n",
        "  return 'done'\n",
        "\n",
        "def g_hello():\n",
        "  while True:\n",
        "    r = yield from s_hello()\n",
        "    yield r\n",
        "\n",
        "g = g_hello()\n",
        "\n",
        "print(next(g))\n",
        "print(next(g))\n",
        "print(next(g))\n",
        "print(next(g))\n",
        "print(next(g))\n",
        "print(next(g))\n",
        "print(next(g))"
      ],
      "metadata": {
        "colab": {
          "base_uri": "https://localhost:8080/"
        },
        "id": "33XRXILgpdLh",
        "outputId": "72dee9d4-76d1-4905-af19-14380aa93f32"
      },
      "execution_count": 52,
      "outputs": [
        {
          "output_type": "stream",
          "name": "stdout",
          "text": [
            "hello 1\n",
            "hello 2\n",
            "hello 3\n",
            "done\n",
            "hello 1\n",
            "hello 2\n",
            "hello 3\n"
          ]
        }
      ]
    },
    {
      "cell_type": "code",
      "source": [
        "print(next(g))\n",
        "print(g.send('mike'))\n",
        "print(next(g))\n",
        "print(g.send('nancy'))"
      ],
      "metadata": {
        "colab": {
          "base_uri": "https://localhost:8080/"
        },
        "id": "DtYlqbUlpr97",
        "outputId": "e6bb5f81-eb3d-44d0-9d23-ee7c2a37502e"
      },
      "execution_count": 46,
      "outputs": [
        {
          "output_type": "stream",
          "name": "stdout",
          "text": [
            "hello\n",
            "mike\n",
            "hello\n",
            "nancy\n"
          ]
        }
      ]
    },
    {
      "cell_type": "code",
      "source": [
        "pip install nest-asyncio"
      ],
      "metadata": {
        "colab": {
          "base_uri": "https://localhost:8080/"
        },
        "id": "SJ-Wo19Bvhnf",
        "outputId": "38b6b5b1-2e05-4672-b64d-9f3334e2b5a9"
      },
      "execution_count": 63,
      "outputs": [
        {
          "output_type": "stream",
          "name": "stdout",
          "text": [
            "Requirement already satisfied: nest-asyncio in /usr/local/lib/python3.11/dist-packages (1.6.0)\n"
          ]
        }
      ]
    },
    {
      "cell_type": "code",
      "source": [
        "import nest_asyncio\n",
        "nest_asyncio.apply()"
      ],
      "metadata": {
        "id": "XODtrvJXvkck"
      },
      "execution_count": 64,
      "outputs": []
    },
    {
      "cell_type": "code",
      "source": [
        "import multiprocessing\n",
        "import threading\n",
        "import time\n",
        "import asyncio\n",
        "import nest_asyncio\n",
        "\n",
        "\n",
        "loop = asyncio.get_event_loop()\n",
        "\n",
        "\n",
        "async def worker():\n",
        "\n",
        "  print(\"start\")\n",
        "  # time.sleep(2)\n",
        "  # yield from asyncio.sleep(2)\n",
        "  await asyncio.sleep(2)\n",
        "  print('stop')\n",
        "\n",
        "\n",
        "if __name__ == \"__main__\":\n",
        "  nest_asyncio.apply()\n",
        "  loop.run_until_complete(asyncio.wait([worker(), worker()]))\n",
        "  loop.close()\n",
        "  # t1 = threading.Thread(target=worker)\n",
        "  # t2 = threading.Thread(target=worker)\n",
        "  # t1.start()\n",
        "  # t2.start()\n",
        "\n",
        "  # p1 = multiprocessing.Process(target=worker)\n",
        "  # p2 = multiprocessing.Process(target=worker)\n",
        "  # p1.start()\n",
        "  # p2.start()"
      ],
      "metadata": {
        "colab": {
          "base_uri": "https://localhost:8080/",
          "height": 356
        },
        "id": "e33yuNoYqh9z",
        "outputId": "d31ba610-c8b9-45af-946f-124347f0d61f"
      },
      "execution_count": 69,
      "outputs": [
        {
          "output_type": "error",
          "ename": "TypeError",
          "evalue": "Passing coroutines is forbidden, use tasks explicitly.",
          "traceback": [
            "\u001b[0;31m---------------------------------------------------------------------------\u001b[0m",
            "\u001b[0;31mTypeError\u001b[0m                                 Traceback (most recent call last)",
            "\u001b[0;32m<ipython-input-69-7d303b13436a>\u001b[0m in \u001b[0;36m<cell line: 0>\u001b[0;34m()\u001b[0m\n\u001b[1;32m     20\u001b[0m \u001b[0;32mif\u001b[0m \u001b[0m__name__\u001b[0m \u001b[0;34m==\u001b[0m \u001b[0;34m\"__main__\"\u001b[0m\u001b[0;34m:\u001b[0m\u001b[0;34m\u001b[0m\u001b[0;34m\u001b[0m\u001b[0m\n\u001b[1;32m     21\u001b[0m   \u001b[0mnest_asyncio\u001b[0m\u001b[0;34m.\u001b[0m\u001b[0mapply\u001b[0m\u001b[0;34m(\u001b[0m\u001b[0;34m)\u001b[0m\u001b[0;34m\u001b[0m\u001b[0;34m\u001b[0m\u001b[0m\n\u001b[0;32m---> 22\u001b[0;31m   \u001b[0mloop\u001b[0m\u001b[0;34m.\u001b[0m\u001b[0mrun_until_complete\u001b[0m\u001b[0;34m(\u001b[0m\u001b[0masyncio\u001b[0m\u001b[0;34m.\u001b[0m\u001b[0mwait\u001b[0m\u001b[0;34m(\u001b[0m\u001b[0;34m[\u001b[0m\u001b[0mworker\u001b[0m\u001b[0;34m(\u001b[0m\u001b[0;34m)\u001b[0m\u001b[0;34m,\u001b[0m \u001b[0mworker\u001b[0m\u001b[0;34m(\u001b[0m\u001b[0;34m)\u001b[0m\u001b[0;34m]\u001b[0m\u001b[0;34m)\u001b[0m\u001b[0;34m)\u001b[0m\u001b[0;34m\u001b[0m\u001b[0;34m\u001b[0m\u001b[0m\n\u001b[0m\u001b[1;32m     23\u001b[0m   \u001b[0mloop\u001b[0m\u001b[0;34m.\u001b[0m\u001b[0mclose\u001b[0m\u001b[0;34m(\u001b[0m\u001b[0;34m)\u001b[0m\u001b[0;34m\u001b[0m\u001b[0;34m\u001b[0m\u001b[0m\n\u001b[1;32m     24\u001b[0m   \u001b[0;31m# t1 = threading.Thread(target=worker)\u001b[0m\u001b[0;34m\u001b[0m\u001b[0;34m\u001b[0m\u001b[0m\n",
            "\u001b[0;32m/usr/local/lib/python3.11/dist-packages/nest_asyncio.py\u001b[0m in \u001b[0;36mrun_until_complete\u001b[0;34m(self, future)\u001b[0m\n\u001b[1;32m     96\u001b[0m                 raise RuntimeError(\n\u001b[1;32m     97\u001b[0m                     'Event loop stopped before Future completed.')\n\u001b[0;32m---> 98\u001b[0;31m             \u001b[0;32mreturn\u001b[0m \u001b[0mf\u001b[0m\u001b[0;34m.\u001b[0m\u001b[0mresult\u001b[0m\u001b[0;34m(\u001b[0m\u001b[0;34m)\u001b[0m\u001b[0;34m\u001b[0m\u001b[0;34m\u001b[0m\u001b[0m\n\u001b[0m\u001b[1;32m     99\u001b[0m \u001b[0;34m\u001b[0m\u001b[0m\n\u001b[1;32m    100\u001b[0m     \u001b[0;32mdef\u001b[0m \u001b[0m_run_once\u001b[0m\u001b[0;34m(\u001b[0m\u001b[0mself\u001b[0m\u001b[0;34m)\u001b[0m\u001b[0;34m:\u001b[0m\u001b[0;34m\u001b[0m\u001b[0;34m\u001b[0m\u001b[0m\n",
            "\u001b[0;32m/usr/lib/python3.11/asyncio/futures.py\u001b[0m in \u001b[0;36mresult\u001b[0;34m(self)\u001b[0m\n\u001b[1;32m    201\u001b[0m         \u001b[0mself\u001b[0m\u001b[0;34m.\u001b[0m\u001b[0m__log_traceback\u001b[0m \u001b[0;34m=\u001b[0m \u001b[0;32mFalse\u001b[0m\u001b[0;34m\u001b[0m\u001b[0;34m\u001b[0m\u001b[0m\n\u001b[1;32m    202\u001b[0m         \u001b[0;32mif\u001b[0m \u001b[0mself\u001b[0m\u001b[0;34m.\u001b[0m\u001b[0m_exception\u001b[0m \u001b[0;32mis\u001b[0m \u001b[0;32mnot\u001b[0m \u001b[0;32mNone\u001b[0m\u001b[0;34m:\u001b[0m\u001b[0;34m\u001b[0m\u001b[0;34m\u001b[0m\u001b[0m\n\u001b[0;32m--> 203\u001b[0;31m             \u001b[0;32mraise\u001b[0m \u001b[0mself\u001b[0m\u001b[0;34m.\u001b[0m\u001b[0m_exception\u001b[0m\u001b[0;34m.\u001b[0m\u001b[0mwith_traceback\u001b[0m\u001b[0;34m(\u001b[0m\u001b[0mself\u001b[0m\u001b[0;34m.\u001b[0m\u001b[0m_exception_tb\u001b[0m\u001b[0;34m)\u001b[0m\u001b[0;34m\u001b[0m\u001b[0;34m\u001b[0m\u001b[0m\n\u001b[0m\u001b[1;32m    204\u001b[0m         \u001b[0;32mreturn\u001b[0m \u001b[0mself\u001b[0m\u001b[0;34m.\u001b[0m\u001b[0m_result\u001b[0m\u001b[0;34m\u001b[0m\u001b[0;34m\u001b[0m\u001b[0m\n\u001b[1;32m    205\u001b[0m \u001b[0;34m\u001b[0m\u001b[0m\n",
            "\u001b[0;32m/usr/lib/python3.11/asyncio/tasks.py\u001b[0m in \u001b[0;36m__step\u001b[0;34m(***failed resolving arguments***)\u001b[0m\n\u001b[1;32m    275\u001b[0m                 \u001b[0;31m# We use the `send` method directly, because coroutines\u001b[0m\u001b[0;34m\u001b[0m\u001b[0;34m\u001b[0m\u001b[0m\n\u001b[1;32m    276\u001b[0m                 \u001b[0;31m# don't have `__iter__` and `__next__` methods.\u001b[0m\u001b[0;34m\u001b[0m\u001b[0;34m\u001b[0m\u001b[0m\n\u001b[0;32m--> 277\u001b[0;31m                 \u001b[0mresult\u001b[0m \u001b[0;34m=\u001b[0m \u001b[0mcoro\u001b[0m\u001b[0;34m.\u001b[0m\u001b[0msend\u001b[0m\u001b[0;34m(\u001b[0m\u001b[0;32mNone\u001b[0m\u001b[0;34m)\u001b[0m\u001b[0;34m\u001b[0m\u001b[0;34m\u001b[0m\u001b[0m\n\u001b[0m\u001b[1;32m    278\u001b[0m             \u001b[0;32melse\u001b[0m\u001b[0;34m:\u001b[0m\u001b[0;34m\u001b[0m\u001b[0;34m\u001b[0m\u001b[0m\n\u001b[1;32m    279\u001b[0m                 \u001b[0mresult\u001b[0m \u001b[0;34m=\u001b[0m \u001b[0mcoro\u001b[0m\u001b[0;34m.\u001b[0m\u001b[0mthrow\u001b[0m\u001b[0;34m(\u001b[0m\u001b[0mexc\u001b[0m\u001b[0;34m)\u001b[0m\u001b[0;34m\u001b[0m\u001b[0;34m\u001b[0m\u001b[0m\n",
            "\u001b[0;32m/usr/lib/python3.11/asyncio/tasks.py\u001b[0m in \u001b[0;36mwait\u001b[0;34m(fs, timeout, return_when)\u001b[0m\n\u001b[1;32m    423\u001b[0m \u001b[0;34m\u001b[0m\u001b[0m\n\u001b[1;32m    424\u001b[0m     \u001b[0;32mif\u001b[0m \u001b[0many\u001b[0m\u001b[0;34m(\u001b[0m\u001b[0mcoroutines\u001b[0m\u001b[0;34m.\u001b[0m\u001b[0miscoroutine\u001b[0m\u001b[0;34m(\u001b[0m\u001b[0mf\u001b[0m\u001b[0;34m)\u001b[0m \u001b[0;32mfor\u001b[0m \u001b[0mf\u001b[0m \u001b[0;32min\u001b[0m \u001b[0mfs\u001b[0m\u001b[0;34m)\u001b[0m\u001b[0;34m:\u001b[0m\u001b[0;34m\u001b[0m\u001b[0;34m\u001b[0m\u001b[0m\n\u001b[0;32m--> 425\u001b[0;31m         \u001b[0;32mraise\u001b[0m \u001b[0mTypeError\u001b[0m\u001b[0;34m(\u001b[0m\u001b[0;34m\"Passing coroutines is forbidden, use tasks explicitly.\"\u001b[0m\u001b[0;34m)\u001b[0m\u001b[0;34m\u001b[0m\u001b[0;34m\u001b[0m\u001b[0m\n\u001b[0m\u001b[1;32m    426\u001b[0m \u001b[0;34m\u001b[0m\u001b[0m\n\u001b[1;32m    427\u001b[0m     \u001b[0mloop\u001b[0m \u001b[0;34m=\u001b[0m \u001b[0mevents\u001b[0m\u001b[0;34m.\u001b[0m\u001b[0mget_running_loop\u001b[0m\u001b[0;34m(\u001b[0m\u001b[0;34m)\u001b[0m\u001b[0;34m\u001b[0m\u001b[0;34m\u001b[0m\u001b[0m\n",
            "\u001b[0;31mTypeError\u001b[0m: Passing coroutines is forbidden, use tasks explicitly."
          ]
        }
      ]
    },
    {
      "cell_type": "code",
      "source": [
        "pip install aiohttp==3.8.2"
      ],
      "metadata": {
        "colab": {
          "base_uri": "https://localhost:8080/"
        },
        "id": "RL6N-YyMtv0Y",
        "outputId": "342f7d72-5bba-4edd-b8dd-2dcd508594b2"
      },
      "execution_count": 1,
      "outputs": [
        {
          "output_type": "stream",
          "name": "stdout",
          "text": [
            "Requirement already satisfied: aiohttp==3.8.2 in /usr/local/lib/python3.11/dist-packages (3.8.2)\n",
            "Requirement already satisfied: attrs>=17.3.0 in /usr/local/lib/python3.11/dist-packages (from aiohttp==3.8.2) (24.3.0)\n",
            "Requirement already satisfied: charset-normalizer<3.0,>=2.0 in /usr/local/lib/python3.11/dist-packages (from aiohttp==3.8.2) (2.1.1)\n",
            "Requirement already satisfied: multidict<6.0,>=4.5 in /usr/local/lib/python3.11/dist-packages (from aiohttp==3.8.2) (5.2.0)\n",
            "Requirement already satisfied: async-timeout<5.0,>=4.0.0a3 in /usr/local/lib/python3.11/dist-packages (from aiohttp==3.8.2) (4.0.3)\n",
            "Requirement already satisfied: yarl<2.0,>=1.0 in /usr/local/lib/python3.11/dist-packages (from aiohttp==3.8.2) (1.18.3)\n",
            "Requirement already satisfied: frozenlist>=1.1.1 in /usr/local/lib/python3.11/dist-packages (from aiohttp==3.8.2) (1.5.0)\n",
            "Requirement already satisfied: aiosignal>=1.1.2 in /usr/local/lib/python3.11/dist-packages (from aiohttp==3.8.2) (1.3.2)\n",
            "Requirement already satisfied: idna>=2.0 in /usr/local/lib/python3.11/dist-packages (from yarl<2.0,>=1.0->aiohttp==3.8.2) (3.10)\n",
            "Requirement already satisfied: propcache>=0.2.0 in /usr/local/lib/python3.11/dist-packages (from yarl<2.0,>=1.0->aiohttp==3.8.2) (0.2.1)\n"
          ]
        }
      ]
    },
    {
      "cell_type": "markdown",
      "source": [
        "asyncioを使用して並列しょり"
      ],
      "metadata": {
        "id": "Xq4wK1gCzlAT"
      }
    },
    {
      "cell_type": "code",
      "source": [
        "import asyncio\n",
        "import time\n",
        "import aiohttp\n",
        "import requests\n",
        "\n",
        "async def hello(url):\n",
        "    async with aiohttp.ClientSession() as session:\n",
        "        async with session.get(url) as response:\n",
        "            print(await response.text())\n",
        "            print(time.time())\n",
        "    await asyncio.sleep(10)\n",
        "\n",
        "async def main():\n",
        "    tasks = [\n",
        "        hello(\"http://httpbin.org/headers\"),\n",
        "        hello(\"http://httpbin.org/headers\")\n",
        "    ]\n",
        "    await asyncio.gather(*tasks)\n",
        "\n",
        "await main()"
      ],
      "metadata": {
        "colab": {
          "base_uri": "https://localhost:8080/"
        },
        "id": "uRo6OBX-wrn3",
        "outputId": "a9e85b06-6605-4acb-ec6e-1fb2cd3c6374"
      },
      "execution_count": 4,
      "outputs": [
        {
          "output_type": "stream",
          "name": "stdout",
          "text": [
            "{\n",
            "  \"headers\": {\n",
            "    \"Accept\": \"*/*\", \n",
            "    \"Accept-Encoding\": \"gzip, deflate\", \n",
            "    \"Host\": \"httpbin.org\", \n",
            "    \"User-Agent\": \"Python/3.11 aiohttp/3.8.2\", \n",
            "    \"X-Amzn-Trace-Id\": \"Root=1-6799ce95-303fe5147357170e5f27b5cf\"\n",
            "  }\n",
            "}\n",
            "\n",
            "1738133141.6812735\n",
            "{\n",
            "  \"headers\": {\n",
            "    \"Accept\": \"*/*\", \n",
            "    \"Accept-Encoding\": \"gzip, deflate\", \n",
            "    \"Host\": \"httpbin.org\", \n",
            "    \"User-Agent\": \"Python/3.11 aiohttp/3.8.2\", \n",
            "    \"X-Amzn-Trace-Id\": \"Root=1-6799ce95-70ee19d97b686d4e1bac17fb\"\n",
            "  }\n",
            "}\n",
            "\n",
            "1738133141.683436\n"
          ]
        }
      ]
    },
    {
      "cell_type": "code",
      "source": [
        "import asyncio\n",
        "\n",
        "async def worker1(lock):\n",
        "    print('worker1 start')\n",
        "    async with lock:\n",
        "        print(\"worker1 got lock\")\n",
        "        await asyncio.sleep(3)\n",
        "    print(\"worker1 end\")\n",
        "\n",
        "async def worker2(lock):\n",
        "    print(\"worker2 start\")\n",
        "    async with lock:\n",
        "      print(\"worker2 got lock\")\n",
        "      await asyncio.sleep(3)\n",
        "    print(\"worker2 end\")\n",
        "\n",
        "async def main():\n",
        "    lock = asyncio.Lock()\n",
        "    task1 = asyncio.create_task(worker1(lock))\n",
        "    task2 = asyncio.create_task(worker2(lock))\n",
        "    # await asyncio.gather(task2,task1)\n",
        "    await asyncio.wait([task2, task1])\n",
        "\n",
        "loop = asyncio.get_event_loop()\n",
        "loop.run_until_complete(main())\n"
      ],
      "metadata": {
        "colab": {
          "base_uri": "https://localhost:8080/"
        },
        "id": "ZXLNR1HizE1m",
        "outputId": "8f9dc1ff-bb0e-4ab3-d8ae-227416f0cf5f"
      },
      "execution_count": 19,
      "outputs": [
        {
          "output_type": "stream",
          "name": "stdout",
          "text": [
            "worker1 start\n",
            "worker1 got lock\n",
            "worker2 start\n",
            "worker1 end\n",
            "worker2 got lock\n",
            "worker2 end\n"
          ]
        }
      ]
    },
    {
      "cell_type": "code",
      "source": [
        "import asyncio\n",
        "\n",
        "\n",
        "async def worker1(event):\n",
        "    print('worker1 start')\n",
        "    await event.wait()\n",
        "\n",
        "    print(\"worker1 got event\")\n",
        "    await asyncio.sleep(3)\n",
        "    print(\"worker1 end\")\n",
        "\n",
        "async def worker2(event):\n",
        "    print(\"worker2 start\")\n",
        "    await event.wait()\n",
        "    print(\"worker2 got event\")\n",
        "    await asyncio.sleep(3)\n",
        "    print(\"worker2 end\")\n",
        "\n",
        "async def worker3(event):\n",
        "    print(\"worker3 start\")\n",
        "    await asyncio.sleep(3)\n",
        "    print(\"worker3 end\")\n",
        "    event.set()\n",
        "\n",
        "async def main():\n",
        "    lock = asyncio.Event()\n",
        "    task1 = asyncio.create_task(worker1(lock))\n",
        "    task2 = asyncio.create_task(worker2(lock))\n",
        "    task3 = asyncio.create_task(worker3(lock))\n",
        "    await asyncio.wait([task2, task1, task3])\n",
        "\n",
        "loop = asyncio.get_event_loop()\n",
        "loop.run_until_complete(main())"
      ],
      "metadata": {
        "colab": {
          "base_uri": "https://localhost:8080/"
        },
        "id": "tBlhxmFR4syq",
        "outputId": "93d69db7-08ae-46f6-efee-b909ec7229e7"
      },
      "execution_count": 23,
      "outputs": [
        {
          "output_type": "stream",
          "name": "stdout",
          "text": [
            "worker1 start\n",
            "worker2 start\n",
            "worker3 start\n",
            "worker3 end\n",
            "worker1 got event\n",
            "worker2 got event\n",
            "worker1 end\n",
            "worker2 end\n"
          ]
        }
      ]
    },
    {
      "cell_type": "code",
      "source": [
        "import asyncio\n",
        "\n",
        "\n",
        "async def worker1(condition):\n",
        "  async with condition:\n",
        "    await condition.wait()\n",
        "    print('worker1 start')\n",
        "\n",
        "    print(\"worker1 got condition\")\n",
        "    await asyncio.sleep(3)\n",
        "    print(\"worker1 end\")\n",
        "\n",
        "async def worker2(condition):\n",
        "  async with condition:\n",
        "    await condition.wait()\n",
        "    print(\"worker2 start\")\n",
        "    print(\"worker2 got condition\")\n",
        "    await asyncio.sleep(3)\n",
        "    print(\"worker2 end\")\n",
        "\n",
        "async def worker3(condition):\n",
        "  async with condition:\n",
        "    print(\"worker3 start\")\n",
        "    await asyncio.sleep(3)\n",
        "    print(\"worker3 end\")\n",
        "    condition.notify_all()\n",
        "\n",
        "async def main():\n",
        "    condition = asyncio.Condition()\n",
        "    task1 = asyncio.create_task(worker1(condition))\n",
        "    task2 = asyncio.create_task(worker2(condition))\n",
        "    task3 = asyncio.create_task(worker3(condition))\n",
        "    await asyncio.wait([task2, task1, task3])\n",
        "\n",
        "loop = asyncio.get_event_loop()\n",
        "loop.run_until_complete(main())"
      ],
      "metadata": {
        "colab": {
          "base_uri": "https://localhost:8080/"
        },
        "id": "mAe01NddJa1d",
        "outputId": "7f2b9c2b-3285-462d-e952-32aea9821926"
      },
      "execution_count": 34,
      "outputs": [
        {
          "output_type": "stream",
          "name": "stdout",
          "text": [
            "worker3 start\n",
            "worker3 end\n",
            "worker1 start\n",
            "worker1 got condition\n",
            "worker1 end\n",
            "worker2 start\n",
            "worker2 got condition\n",
            "worker2 end\n"
          ]
        }
      ]
    }
  ]
}