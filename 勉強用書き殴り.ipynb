{
  "nbformat": 4,
  "nbformat_minor": 0,
  "metadata": {
    "colab": {
      "provenance": [],
      "authorship_tag": "ABX9TyMD2pxDnZ8IQ+nD+A/ttnGo",
      "include_colab_link": true
    },
    "kernelspec": {
      "name": "python3",
      "display_name": "Python 3"
    },
    "language_info": {
      "name": "python"
    }
  },
  "cells": [
    {
      "cell_type": "markdown",
      "metadata": {
        "id": "view-in-github",
        "colab_type": "text"
      },
      "source": [
        "<a href=\"https://colab.research.google.com/github/yosuke318/python_notebook/blob/main/%E5%8B%89%E5%BC%B7%E7%94%A8%E6%9B%B8%E3%81%8D%E6%AE%B4%E3%82%8A.ipynb\" target=\"_parent\"><img src=\"https://colab.research.google.com/assets/colab-badge.svg\" alt=\"Open In Colab\"/></a>"
      ]
    },
    {
      "cell_type": "code",
      "execution_count": null,
      "metadata": {
        "colab": {
          "base_uri": "https://localhost:8080/"
        },
        "id": "IT-Ez-9J7B51",
        "outputId": "7fc43a57-b943-4c05-c0df-a017c7eec38f"
      },
      "outputs": [
        {
          "output_type": "execute_result",
          "data": {
            "text/plain": [
              "0"
            ]
          },
          "metadata": {},
          "execution_count": 11
        }
      ],
      "source": [
        "tuple = (1,2,3,4,1,2)\n",
        "\n",
        "type(tuple)\n",
        "\n",
        "tuple.index(1)"
      ]
    },
    {
      "cell_type": "code",
      "source": [
        "t = ([1,2,3],4,5)\n",
        "\n",
        "t[0][1]=100\n",
        "\n",
        "print(t)"
      ],
      "metadata": {
        "id": "XS7jbPqm7dy9"
      },
      "execution_count": null,
      "outputs": []
    },
    {
      "cell_type": "code",
      "source": [
        "t = 1,2,3\n",
        "type(t)\n",
        "\n",
        "t= (1, )\n",
        "\n",
        "type(t)\n",
        "\n",
        "t=(1)\n",
        "\n",
        "type(t)\n",
        "\n"
      ],
      "metadata": {
        "colab": {
          "base_uri": "https://localhost:8080/"
        },
        "id": "vJceW3Mz8E3M",
        "outputId": "19272d72-e10c-4129-be05-e6f2124d6016"
      },
      "execution_count": null,
      "outputs": [
        {
          "output_type": "execute_result",
          "data": {
            "text/plain": [
              "int"
            ]
          },
          "metadata": {},
          "execution_count": 20
        }
      ]
    },
    {
      "cell_type": "code",
      "source": [
        "new_tuple = (1,3,4) + (1,3,4)\n",
        "\n",
        "print(new_tuple)"
      ],
      "metadata": {
        "colab": {
          "base_uri": "https://localhost:8080/"
        },
        "id": "UJRLKroS8oam",
        "outputId": "b267323a-c288-45a2-a9a1-5f048dd98424"
      },
      "execution_count": null,
      "outputs": [
        {
          "output_type": "stream",
          "name": "stdout",
          "text": [
            "(1, 3, 4, 1, 3, 4)\n"
          ]
        }
      ]
    },
    {
      "cell_type": "code",
      "source": [
        "num_tuple = (12, 20)\n",
        "# タプルのアンパッキングっていうらしい\n",
        "x, y = num_tuple\n",
        "print(x, y)"
      ],
      "metadata": {
        "colab": {
          "base_uri": "https://localhost:8080/"
        },
        "id": "Mh2aESHW8ue_",
        "outputId": "d1d99154-f768-478a-f005-23fec191505c"
      },
      "execution_count": null,
      "outputs": [
        {
          "output_type": "stream",
          "name": "stdout",
          "text": [
            "12 20\n"
          ]
        }
      ]
    },
    {
      "cell_type": "code",
      "source": [
        "x, y = 10, 20\n",
        "\n",
        "print(x, y)\n",
        "\n",
        "min, max = 0, 100\n",
        "\n",
        "print(min, max)"
      ],
      "metadata": {
        "colab": {
          "base_uri": "https://localhost:8080/"
        },
        "id": "3FCrEJLe8_a8",
        "outputId": "f8c743bd-a92c-4971-b447-b527ec636443"
      },
      "execution_count": null,
      "outputs": [
        {
          "output_type": "stream",
          "name": "stdout",
          "text": [
            "10 20\n",
            "0 100\n"
          ]
        }
      ]
    },
    {
      "cell_type": "code",
      "source": [
        "i = 10\n",
        "j = 20\n",
        "\n",
        "temp = i\n",
        "\n",
        "i= j\n",
        "j = temp\n",
        "print(i, j)"
      ],
      "metadata": {
        "colab": {
          "base_uri": "https://localhost:8080/"
        },
        "id": "bMD9A2NN9JrF",
        "outputId": "bee6a92c-9816-4a3d-b646-7a42bc5c8052"
      },
      "execution_count": null,
      "outputs": [
        {
          "output_type": "stream",
          "name": "stdout",
          "text": [
            "20 10\n"
          ]
        }
      ]
    },
    {
      "cell_type": "code",
      "source": [
        "a = 10\n",
        "b = 20\n",
        "print(a, b)\n",
        "a, b= b, a\n",
        "# アンパッキングで変数の入れ替えが1行で！\n",
        "print(a, b)"
      ],
      "metadata": {
        "colab": {
          "base_uri": "https://localhost:8080/"
        },
        "id": "oE190RSr9mD3",
        "outputId": "04680648-5c7e-41f4-ab43-d64eaa47ab68"
      },
      "execution_count": null,
      "outputs": [
        {
          "output_type": "stream",
          "name": "stdout",
          "text": [
            "10 20\n",
            "20 10\n"
          ]
        }
      ]
    },
    {
      "cell_type": "code",
      "source": [
        "def g_hello():\n",
        "  yield 'hello 1'\n",
        "  yield 'hello 2'\n",
        "  yield 'hello 3'\n",
        "\n",
        "g = g_hello()\n",
        "\n",
        "print(next(g))\n",
        "print(next(g))\n",
        "print(next(g))\n"
      ],
      "metadata": {
        "colab": {
          "base_uri": "https://localhost:8080/"
        },
        "id": "RjnsUo2ThpZo",
        "outputId": "de43ceb7-04d8-4459-ab71-a114e8dd4549"
      },
      "execution_count": null,
      "outputs": [
        {
          "output_type": "stream",
          "name": "stdout",
          "text": [
            "hello 1\n",
            "hello 2\n",
            "hello 3\n"
          ]
        }
      ]
    },
    {
      "cell_type": "code",
      "source": [
        "def s_hello():\n",
        "  yield 'hello 1'\n",
        "  yield 'hello 2'\n",
        "  yield 'hello 3'\n",
        "  return 'done'\n",
        "\n",
        "def g_hello():\n",
        "  while True:\n",
        "    r = yield from s_hello()\n",
        "    yield r\n",
        "\n",
        "g = g_hello()\n",
        "\n",
        "print(next(g))\n",
        "print(next(g))\n",
        "print(next(g))\n",
        "print(next(g))\n",
        "print(next(g))\n",
        "print(next(g))\n",
        "print(next(g))"
      ],
      "metadata": {
        "colab": {
          "base_uri": "https://localhost:8080/"
        },
        "id": "33XRXILgpdLh",
        "outputId": "72dee9d4-76d1-4905-af19-14380aa93f32"
      },
      "execution_count": null,
      "outputs": [
        {
          "output_type": "stream",
          "name": "stdout",
          "text": [
            "hello 1\n",
            "hello 2\n",
            "hello 3\n",
            "done\n",
            "hello 1\n",
            "hello 2\n",
            "hello 3\n"
          ]
        }
      ]
    },
    {
      "cell_type": "code",
      "source": [
        "print(next(g))\n",
        "print(g.send('mike'))\n",
        "print(next(g))\n",
        "print(g.send('nancy'))"
      ],
      "metadata": {
        "colab": {
          "base_uri": "https://localhost:8080/"
        },
        "id": "DtYlqbUlpr97",
        "outputId": "e6bb5f81-eb3d-44d0-9d23-ee7c2a37502e"
      },
      "execution_count": null,
      "outputs": [
        {
          "output_type": "stream",
          "name": "stdout",
          "text": [
            "hello\n",
            "mike\n",
            "hello\n",
            "nancy\n"
          ]
        }
      ]
    },
    {
      "cell_type": "code",
      "source": [
        "pip install nest-asyncio"
      ],
      "metadata": {
        "colab": {
          "base_uri": "https://localhost:8080/"
        },
        "id": "SJ-Wo19Bvhnf",
        "outputId": "38b6b5b1-2e05-4672-b64d-9f3334e2b5a9"
      },
      "execution_count": null,
      "outputs": [
        {
          "output_type": "stream",
          "name": "stdout",
          "text": [
            "Requirement already satisfied: nest-asyncio in /usr/local/lib/python3.11/dist-packages (1.6.0)\n"
          ]
        }
      ]
    },
    {
      "cell_type": "code",
      "source": [
        "import nest_asyncio\n",
        "nest_asyncio.apply()"
      ],
      "metadata": {
        "id": "XODtrvJXvkck"
      },
      "execution_count": null,
      "outputs": []
    },
    {
      "cell_type": "code",
      "source": [
        "import multiprocessing\n",
        "import threading\n",
        "import time\n",
        "import asyncio\n",
        "import nest_asyncio\n",
        "\n",
        "\n",
        "loop = asyncio.get_event_loop()\n",
        "\n",
        "\n",
        "async def worker():\n",
        "\n",
        "  print(\"start\")\n",
        "  # time.sleep(2)\n",
        "  # yield from asyncio.sleep(2)\n",
        "  await asyncio.sleep(2)\n",
        "  print('stop')\n",
        "\n",
        "\n",
        "if __name__ == \"__main__\":\n",
        "  nest_asyncio.apply()\n",
        "  loop.run_until_complete(asyncio.wait([worker(), worker()]))\n",
        "  loop.close()\n",
        "  # t1 = threading.Thread(target=worker)\n",
        "  # t2 = threading.Thread(target=worker)\n",
        "  # t1.start()\n",
        "  # t2.start()\n",
        "\n",
        "  # p1 = multiprocessing.Process(target=worker)\n",
        "  # p2 = multiprocessing.Process(target=worker)\n",
        "  # p1.start()\n",
        "  # p2.start()"
      ],
      "metadata": {
        "colab": {
          "base_uri": "https://localhost:8080/",
          "height": 373
        },
        "id": "e33yuNoYqh9z",
        "outputId": "d31ba610-c8b9-45af-946f-124347f0d61f"
      },
      "execution_count": null,
      "outputs": [
        {
          "output_type": "error",
          "ename": "TypeError",
          "evalue": "Passing coroutines is forbidden, use tasks explicitly.",
          "traceback": [
            "\u001b[0;31m---------------------------------------------------------------------------\u001b[0m",
            "\u001b[0;31mTypeError\u001b[0m                                 Traceback (most recent call last)",
            "\u001b[0;32m<ipython-input-69-7d303b13436a>\u001b[0m in \u001b[0;36m<cell line: 0>\u001b[0;34m()\u001b[0m\n\u001b[1;32m     20\u001b[0m \u001b[0;32mif\u001b[0m \u001b[0m__name__\u001b[0m \u001b[0;34m==\u001b[0m \u001b[0;34m\"__main__\"\u001b[0m\u001b[0;34m:\u001b[0m\u001b[0;34m\u001b[0m\u001b[0;34m\u001b[0m\u001b[0m\n\u001b[1;32m     21\u001b[0m   \u001b[0mnest_asyncio\u001b[0m\u001b[0;34m.\u001b[0m\u001b[0mapply\u001b[0m\u001b[0;34m(\u001b[0m\u001b[0;34m)\u001b[0m\u001b[0;34m\u001b[0m\u001b[0;34m\u001b[0m\u001b[0m\n\u001b[0;32m---> 22\u001b[0;31m   \u001b[0mloop\u001b[0m\u001b[0;34m.\u001b[0m\u001b[0mrun_until_complete\u001b[0m\u001b[0;34m(\u001b[0m\u001b[0masyncio\u001b[0m\u001b[0;34m.\u001b[0m\u001b[0mwait\u001b[0m\u001b[0;34m(\u001b[0m\u001b[0;34m[\u001b[0m\u001b[0mworker\u001b[0m\u001b[0;34m(\u001b[0m\u001b[0;34m)\u001b[0m\u001b[0;34m,\u001b[0m \u001b[0mworker\u001b[0m\u001b[0;34m(\u001b[0m\u001b[0;34m)\u001b[0m\u001b[0;34m]\u001b[0m\u001b[0;34m)\u001b[0m\u001b[0;34m)\u001b[0m\u001b[0;34m\u001b[0m\u001b[0;34m\u001b[0m\u001b[0m\n\u001b[0m\u001b[1;32m     23\u001b[0m   \u001b[0mloop\u001b[0m\u001b[0;34m.\u001b[0m\u001b[0mclose\u001b[0m\u001b[0;34m(\u001b[0m\u001b[0;34m)\u001b[0m\u001b[0;34m\u001b[0m\u001b[0;34m\u001b[0m\u001b[0m\n\u001b[1;32m     24\u001b[0m   \u001b[0;31m# t1 = threading.Thread(target=worker)\u001b[0m\u001b[0;34m\u001b[0m\u001b[0;34m\u001b[0m\u001b[0m\n",
            "\u001b[0;32m/usr/local/lib/python3.11/dist-packages/nest_asyncio.py\u001b[0m in \u001b[0;36mrun_until_complete\u001b[0;34m(self, future)\u001b[0m\n\u001b[1;32m     96\u001b[0m                 raise RuntimeError(\n\u001b[1;32m     97\u001b[0m                     'Event loop stopped before Future completed.')\n\u001b[0;32m---> 98\u001b[0;31m             \u001b[0;32mreturn\u001b[0m \u001b[0mf\u001b[0m\u001b[0;34m.\u001b[0m\u001b[0mresult\u001b[0m\u001b[0;34m(\u001b[0m\u001b[0;34m)\u001b[0m\u001b[0;34m\u001b[0m\u001b[0;34m\u001b[0m\u001b[0m\n\u001b[0m\u001b[1;32m     99\u001b[0m \u001b[0;34m\u001b[0m\u001b[0m\n\u001b[1;32m    100\u001b[0m     \u001b[0;32mdef\u001b[0m \u001b[0m_run_once\u001b[0m\u001b[0;34m(\u001b[0m\u001b[0mself\u001b[0m\u001b[0;34m)\u001b[0m\u001b[0;34m:\u001b[0m\u001b[0;34m\u001b[0m\u001b[0;34m\u001b[0m\u001b[0m\n",
            "\u001b[0;32m/usr/lib/python3.11/asyncio/futures.py\u001b[0m in \u001b[0;36mresult\u001b[0;34m(self)\u001b[0m\n\u001b[1;32m    201\u001b[0m         \u001b[0mself\u001b[0m\u001b[0;34m.\u001b[0m\u001b[0m__log_traceback\u001b[0m \u001b[0;34m=\u001b[0m \u001b[0;32mFalse\u001b[0m\u001b[0;34m\u001b[0m\u001b[0;34m\u001b[0m\u001b[0m\n\u001b[1;32m    202\u001b[0m         \u001b[0;32mif\u001b[0m \u001b[0mself\u001b[0m\u001b[0;34m.\u001b[0m\u001b[0m_exception\u001b[0m \u001b[0;32mis\u001b[0m \u001b[0;32mnot\u001b[0m \u001b[0;32mNone\u001b[0m\u001b[0;34m:\u001b[0m\u001b[0;34m\u001b[0m\u001b[0;34m\u001b[0m\u001b[0m\n\u001b[0;32m--> 203\u001b[0;31m             \u001b[0;32mraise\u001b[0m \u001b[0mself\u001b[0m\u001b[0;34m.\u001b[0m\u001b[0m_exception\u001b[0m\u001b[0;34m.\u001b[0m\u001b[0mwith_traceback\u001b[0m\u001b[0;34m(\u001b[0m\u001b[0mself\u001b[0m\u001b[0;34m.\u001b[0m\u001b[0m_exception_tb\u001b[0m\u001b[0;34m)\u001b[0m\u001b[0;34m\u001b[0m\u001b[0;34m\u001b[0m\u001b[0m\n\u001b[0m\u001b[1;32m    204\u001b[0m         \u001b[0;32mreturn\u001b[0m \u001b[0mself\u001b[0m\u001b[0;34m.\u001b[0m\u001b[0m_result\u001b[0m\u001b[0;34m\u001b[0m\u001b[0;34m\u001b[0m\u001b[0m\n\u001b[1;32m    205\u001b[0m \u001b[0;34m\u001b[0m\u001b[0m\n",
            "\u001b[0;32m/usr/lib/python3.11/asyncio/tasks.py\u001b[0m in \u001b[0;36m__step\u001b[0;34m(***failed resolving arguments***)\u001b[0m\n\u001b[1;32m    275\u001b[0m                 \u001b[0;31m# We use the `send` method directly, because coroutines\u001b[0m\u001b[0;34m\u001b[0m\u001b[0;34m\u001b[0m\u001b[0m\n\u001b[1;32m    276\u001b[0m                 \u001b[0;31m# don't have `__iter__` and `__next__` methods.\u001b[0m\u001b[0;34m\u001b[0m\u001b[0;34m\u001b[0m\u001b[0m\n\u001b[0;32m--> 277\u001b[0;31m                 \u001b[0mresult\u001b[0m \u001b[0;34m=\u001b[0m \u001b[0mcoro\u001b[0m\u001b[0;34m.\u001b[0m\u001b[0msend\u001b[0m\u001b[0;34m(\u001b[0m\u001b[0;32mNone\u001b[0m\u001b[0;34m)\u001b[0m\u001b[0;34m\u001b[0m\u001b[0;34m\u001b[0m\u001b[0m\n\u001b[0m\u001b[1;32m    278\u001b[0m             \u001b[0;32melse\u001b[0m\u001b[0;34m:\u001b[0m\u001b[0;34m\u001b[0m\u001b[0;34m\u001b[0m\u001b[0m\n\u001b[1;32m    279\u001b[0m                 \u001b[0mresult\u001b[0m \u001b[0;34m=\u001b[0m \u001b[0mcoro\u001b[0m\u001b[0;34m.\u001b[0m\u001b[0mthrow\u001b[0m\u001b[0;34m(\u001b[0m\u001b[0mexc\u001b[0m\u001b[0;34m)\u001b[0m\u001b[0;34m\u001b[0m\u001b[0;34m\u001b[0m\u001b[0m\n",
            "\u001b[0;32m/usr/lib/python3.11/asyncio/tasks.py\u001b[0m in \u001b[0;36mwait\u001b[0;34m(fs, timeout, return_when)\u001b[0m\n\u001b[1;32m    423\u001b[0m \u001b[0;34m\u001b[0m\u001b[0m\n\u001b[1;32m    424\u001b[0m     \u001b[0;32mif\u001b[0m \u001b[0many\u001b[0m\u001b[0;34m(\u001b[0m\u001b[0mcoroutines\u001b[0m\u001b[0;34m.\u001b[0m\u001b[0miscoroutine\u001b[0m\u001b[0;34m(\u001b[0m\u001b[0mf\u001b[0m\u001b[0;34m)\u001b[0m \u001b[0;32mfor\u001b[0m \u001b[0mf\u001b[0m \u001b[0;32min\u001b[0m \u001b[0mfs\u001b[0m\u001b[0;34m)\u001b[0m\u001b[0;34m:\u001b[0m\u001b[0;34m\u001b[0m\u001b[0;34m\u001b[0m\u001b[0m\n\u001b[0;32m--> 425\u001b[0;31m         \u001b[0;32mraise\u001b[0m \u001b[0mTypeError\u001b[0m\u001b[0;34m(\u001b[0m\u001b[0;34m\"Passing coroutines is forbidden, use tasks explicitly.\"\u001b[0m\u001b[0;34m)\u001b[0m\u001b[0;34m\u001b[0m\u001b[0;34m\u001b[0m\u001b[0m\n\u001b[0m\u001b[1;32m    426\u001b[0m \u001b[0;34m\u001b[0m\u001b[0m\n\u001b[1;32m    427\u001b[0m     \u001b[0mloop\u001b[0m \u001b[0;34m=\u001b[0m \u001b[0mevents\u001b[0m\u001b[0;34m.\u001b[0m\u001b[0mget_running_loop\u001b[0m\u001b[0;34m(\u001b[0m\u001b[0;34m)\u001b[0m\u001b[0;34m\u001b[0m\u001b[0;34m\u001b[0m\u001b[0m\n",
            "\u001b[0;31mTypeError\u001b[0m: Passing coroutines is forbidden, use tasks explicitly."
          ]
        }
      ]
    },
    {
      "cell_type": "code",
      "source": [
        "pip install aiohttp==3.8.2"
      ],
      "metadata": {
        "colab": {
          "base_uri": "https://localhost:8080/"
        },
        "id": "RL6N-YyMtv0Y",
        "outputId": "342f7d72-5bba-4edd-b8dd-2dcd508594b2"
      },
      "execution_count": null,
      "outputs": [
        {
          "output_type": "stream",
          "name": "stdout",
          "text": [
            "Requirement already satisfied: aiohttp==3.8.2 in /usr/local/lib/python3.11/dist-packages (3.8.2)\n",
            "Requirement already satisfied: attrs>=17.3.0 in /usr/local/lib/python3.11/dist-packages (from aiohttp==3.8.2) (24.3.0)\n",
            "Requirement already satisfied: charset-normalizer<3.0,>=2.0 in /usr/local/lib/python3.11/dist-packages (from aiohttp==3.8.2) (2.1.1)\n",
            "Requirement already satisfied: multidict<6.0,>=4.5 in /usr/local/lib/python3.11/dist-packages (from aiohttp==3.8.2) (5.2.0)\n",
            "Requirement already satisfied: async-timeout<5.0,>=4.0.0a3 in /usr/local/lib/python3.11/dist-packages (from aiohttp==3.8.2) (4.0.3)\n",
            "Requirement already satisfied: yarl<2.0,>=1.0 in /usr/local/lib/python3.11/dist-packages (from aiohttp==3.8.2) (1.18.3)\n",
            "Requirement already satisfied: frozenlist>=1.1.1 in /usr/local/lib/python3.11/dist-packages (from aiohttp==3.8.2) (1.5.0)\n",
            "Requirement already satisfied: aiosignal>=1.1.2 in /usr/local/lib/python3.11/dist-packages (from aiohttp==3.8.2) (1.3.2)\n",
            "Requirement already satisfied: idna>=2.0 in /usr/local/lib/python3.11/dist-packages (from yarl<2.0,>=1.0->aiohttp==3.8.2) (3.10)\n",
            "Requirement already satisfied: propcache>=0.2.0 in /usr/local/lib/python3.11/dist-packages (from yarl<2.0,>=1.0->aiohttp==3.8.2) (0.2.1)\n"
          ]
        }
      ]
    },
    {
      "cell_type": "markdown",
      "source": [
        "asyncioを使用して並列しょり"
      ],
      "metadata": {
        "id": "Xq4wK1gCzlAT"
      }
    },
    {
      "cell_type": "code",
      "source": [
        "import asyncio\n",
        "import time\n",
        "import aiohttp\n",
        "import requests\n",
        "\n",
        "async def hello(url):\n",
        "    async with aiohttp.ClientSession() as session:\n",
        "        async with session.get(url) as response:\n",
        "            print(await response.text())\n",
        "            print(time.time())\n",
        "    await asyncio.sleep(10)\n",
        "\n",
        "async def main():\n",
        "    tasks = [\n",
        "        hello(\"http://httpbin.org/headers\"),\n",
        "        hello(\"http://httpbin.org/headers\")\n",
        "    ]\n",
        "    await asyncio.gather(*tasks)\n",
        "\n",
        "await main()"
      ],
      "metadata": {
        "colab": {
          "base_uri": "https://localhost:8080/"
        },
        "id": "uRo6OBX-wrn3",
        "outputId": "a9e85b06-6605-4acb-ec6e-1fb2cd3c6374"
      },
      "execution_count": null,
      "outputs": [
        {
          "output_type": "stream",
          "name": "stdout",
          "text": [
            "{\n",
            "  \"headers\": {\n",
            "    \"Accept\": \"*/*\", \n",
            "    \"Accept-Encoding\": \"gzip, deflate\", \n",
            "    \"Host\": \"httpbin.org\", \n",
            "    \"User-Agent\": \"Python/3.11 aiohttp/3.8.2\", \n",
            "    \"X-Amzn-Trace-Id\": \"Root=1-6799ce95-303fe5147357170e5f27b5cf\"\n",
            "  }\n",
            "}\n",
            "\n",
            "1738133141.6812735\n",
            "{\n",
            "  \"headers\": {\n",
            "    \"Accept\": \"*/*\", \n",
            "    \"Accept-Encoding\": \"gzip, deflate\", \n",
            "    \"Host\": \"httpbin.org\", \n",
            "    \"User-Agent\": \"Python/3.11 aiohttp/3.8.2\", \n",
            "    \"X-Amzn-Trace-Id\": \"Root=1-6799ce95-70ee19d97b686d4e1bac17fb\"\n",
            "  }\n",
            "}\n",
            "\n",
            "1738133141.683436\n"
          ]
        }
      ]
    },
    {
      "cell_type": "markdown",
      "source": [
        "# ロック"
      ],
      "metadata": {
        "id": "DWJ80qsnrsGv"
      }
    },
    {
      "cell_type": "code",
      "source": [
        "import asyncio\n",
        "\n",
        "async def worker1(lock):\n",
        "    print('worker1 start')\n",
        "    async with lock:\n",
        "        print(\"worker1 got lock\")\n",
        "        await asyncio.sleep(3)\n",
        "    print(\"worker1 end\")\n",
        "\n",
        "async def worker2(lock):\n",
        "    print(\"worker2 start\")\n",
        "    async with lock:\n",
        "      print(\"worker2 got lock\")\n",
        "      await asyncio.sleep(3)\n",
        "    print(\"worker2 end\")\n",
        "\n",
        "async def main():\n",
        "    lock = asyncio.Lock()\n",
        "    task1 = asyncio.create_task(worker1(lock))\n",
        "    task2 = asyncio.create_task(worker2(lock))\n",
        "    # await asyncio.gather(task2,task1)\n",
        "    await asyncio.wait([task2, task1])\n",
        "\n",
        "loop = asyncio.get_event_loop()\n",
        "loop.run_until_complete(main())\n"
      ],
      "metadata": {
        "colab": {
          "base_uri": "https://localhost:8080/"
        },
        "id": "ZXLNR1HizE1m",
        "outputId": "8f9dc1ff-bb0e-4ab3-d8ae-227416f0cf5f"
      },
      "execution_count": null,
      "outputs": [
        {
          "output_type": "stream",
          "name": "stdout",
          "text": [
            "worker1 start\n",
            "worker1 got lock\n",
            "worker2 start\n",
            "worker1 end\n",
            "worker2 got lock\n",
            "worker2 end\n"
          ]
        }
      ]
    },
    {
      "cell_type": "markdown",
      "source": [
        "# イベント"
      ],
      "metadata": {
        "id": "wFpSoLGtrp3e"
      }
    },
    {
      "cell_type": "code",
      "source": [
        "import asyncio\n",
        "\n",
        "\n",
        "async def worker1(event):\n",
        "    print('worker1 start')\n",
        "    await event.wait()\n",
        "\n",
        "    print(\"worker1 got event\")\n",
        "    await asyncio.sleep(3)\n",
        "    print(\"worker1 end\")\n",
        "\n",
        "async def worker2(event):\n",
        "    print(\"worker2 start\")\n",
        "    await event.wait()\n",
        "    print(\"worker2 got event\")\n",
        "    await asyncio.sleep(3)\n",
        "    print(\"worker2 end\")\n",
        "\n",
        "async def worker3(event):\n",
        "    print(\"worker3 start\")\n",
        "    await asyncio.sleep(3)\n",
        "    print(\"worker3 end\")\n",
        "    event.set()\n",
        "\n",
        "async def main():\n",
        "    lock = asyncio.Event()\n",
        "    task1 = asyncio.create_task(worker1(lock))\n",
        "    task2 = asyncio.create_task(worker2(lock))\n",
        "    task3 = asyncio.create_task(worker3(lock))\n",
        "    await asyncio.wait([task2, task1, task3])\n",
        "\n",
        "loop = asyncio.get_event_loop()\n",
        "loop.run_until_complete(main())"
      ],
      "metadata": {
        "colab": {
          "base_uri": "https://localhost:8080/"
        },
        "id": "tBlhxmFR4syq",
        "outputId": "93d69db7-08ae-46f6-efee-b909ec7229e7"
      },
      "execution_count": null,
      "outputs": [
        {
          "output_type": "stream",
          "name": "stdout",
          "text": [
            "worker1 start\n",
            "worker2 start\n",
            "worker3 start\n",
            "worker3 end\n",
            "worker1 got event\n",
            "worker2 got event\n",
            "worker1 end\n",
            "worker2 end\n"
          ]
        }
      ]
    },
    {
      "cell_type": "markdown",
      "source": [
        "# コンディション"
      ],
      "metadata": {
        "id": "weObIN5ArneT"
      }
    },
    {
      "cell_type": "code",
      "source": [
        "import asyncio\n",
        "\n",
        "\n",
        "async def worker1(condition):\n",
        "  async with condition:\n",
        "    await condition.wait()\n",
        "    print('worker1 start')\n",
        "\n",
        "    print(\"worker1 got condition\")\n",
        "    await asyncio.sleep(3)\n",
        "    print(\"worker1 end\")\n",
        "\n",
        "async def worker2(condition):\n",
        "  async with condition:\n",
        "    await condition.wait()\n",
        "    print(\"worker2 start\")\n",
        "    print(\"worker2 got condition\")\n",
        "    await asyncio.sleep(3)\n",
        "    print(\"worker2 end\")\n",
        "\n",
        "async def worker3(condition):\n",
        "  async with condition:\n",
        "    print(\"worker3 start\")\n",
        "    await asyncio.sleep(3)\n",
        "    print(\"worker3 end\")\n",
        "    condition.notify_all()\n",
        "\n",
        "async def main():\n",
        "    condition = asyncio.Condition()\n",
        "    task1 = asyncio.create_task(worker1(condition))\n",
        "    task2 = asyncio.create_task(worker2(condition))\n",
        "    task3 = asyncio.create_task(worker3(condition))\n",
        "    await asyncio.wait([task2, task1, task3])\n",
        "\n",
        "loop = asyncio.get_event_loop()\n",
        "loop.run_until_complete(main())"
      ],
      "metadata": {
        "colab": {
          "base_uri": "https://localhost:8080/"
        },
        "id": "mAe01NddJa1d",
        "outputId": "7f2b9c2b-3285-462d-e952-32aea9821926"
      },
      "execution_count": null,
      "outputs": [
        {
          "output_type": "stream",
          "name": "stdout",
          "text": [
            "worker3 start\n",
            "worker3 end\n",
            "worker1 start\n",
            "worker1 got condition\n",
            "worker1 end\n",
            "worker2 start\n",
            "worker2 got condition\n",
            "worker2 end\n"
          ]
        }
      ]
    },
    {
      "cell_type": "markdown",
      "source": [
        "# セマフォ"
      ],
      "metadata": {
        "id": "5K5vdjxsrktD"
      }
    },
    {
      "cell_type": "code",
      "source": [
        "import asyncio\n",
        "\n",
        "\n",
        "async def worker1(semaphore):\n",
        "  async with semaphore:\n",
        "    print('worker1 start')\n",
        "\n",
        "    print(\"worker1 got semaphore\")\n",
        "    await asyncio.sleep(3)\n",
        "    print(\"worker1 end\")\n",
        "\n",
        "async def worker2(semaphore):\n",
        "  async with semaphore:\n",
        "    print(\"worker2 start\")\n",
        "    print(\"worker2 got semaphore\")\n",
        "    await asyncio.sleep(3)\n",
        "    print(\"worker2 end\")\n",
        "\n",
        "\n",
        "semaphore = asyncio.Semaphore(2)  # 1つのワーカーのみ同時実行可能\n",
        "\n",
        "async def main():\n",
        "    await asyncio.gather(worker1(semaphore), worker2(semaphore))\n",
        "\n",
        "asyncio.run(main())"
      ],
      "metadata": {
        "colab": {
          "base_uri": "https://localhost:8080/"
        },
        "id": "gDDnTMS9pnDG",
        "outputId": "71a875e7-4f7e-41b9-d42d-2e3b519ab2c3"
      },
      "execution_count": null,
      "outputs": [
        {
          "output_type": "stream",
          "name": "stdout",
          "text": [
            "worker1 start\n",
            "worker1 got semaphore\n",
            "worker2 start\n",
            "worker2 got semaphore\n",
            "worker1 end\n",
            "worker2 end\n"
          ]
        }
      ]
    },
    {
      "cell_type": "code",
      "source": [
        "import asyncio\n",
        "\n",
        "\n",
        "async def worker1(queue):\n",
        "    print('worker1 start')\n",
        "    await queue.put(100)\n",
        "    # queue.put(100) # awiatしないとずっと待つことになる\n",
        "    print(\"worker1 end\")\n",
        "\n",
        "async def worker2(queue):\n",
        "    print(\"worker2 start\")\n",
        "    x=await queue.get()\n",
        "    print(x)\n",
        "    print(\"worker2 end\")\n",
        "\n",
        "\n",
        "queue = asyncio.Queue(2)  # 1つのワーカーのみ同時実行可能\n",
        "\n",
        "async def main():\n",
        "    await asyncio.gather(worker1(queue), worker2(queue))\n",
        "\n",
        "asyncio.run(main())"
      ],
      "metadata": {
        "colab": {
          "base_uri": "https://localhost:8080/"
        },
        "id": "yu2tpjNNqCqD",
        "outputId": "fecf1ae7-9fb2-456b-fa2a-0acd253121a8"
      },
      "execution_count": null,
      "outputs": [
        {
          "output_type": "stream",
          "name": "stdout",
          "text": [
            "worker1 start\n",
            "worker1 end\n",
            "worker2 start\n",
            "100\n",
            "worker2 end\n"
          ]
        }
      ]
    },
    {
      "cell_type": "markdown",
      "source": [
        "# Future"
      ],
      "metadata": {
        "id": "i-sZuAwvAqxg"
      }
    },
    {
      "cell_type": "code",
      "source": [],
      "metadata": {
        "id": "u-onqm7EoxEs"
      },
      "execution_count": null,
      "outputs": []
    },
    {
      "cell_type": "code",
      "source": [
        "import asyncio\n",
        "\n",
        "async def f(future):\n",
        "    await asyncio.sleep(1)\n",
        "    future.set_result(\"Future is done!\")\n",
        "\n",
        "def got_result(future):\n",
        "    print(future.result())\n",
        "\n",
        "async def main():\n",
        "    future = asyncio.Future()\n",
        "    task = asyncio.create_task(f(future))\n",
        "    future.add_done_callback(got_result)\n",
        "    await task\n",
        "\n",
        "await main()\n"
      ],
      "metadata": {
        "colab": {
          "base_uri": "https://localhost:8080/"
        },
        "id": "J0TckL31C8Ku",
        "outputId": "a1d5656c-8213-4873-bff1-e1fe4205b927"
      },
      "execution_count": null,
      "outputs": [
        {
          "output_type": "stream",
          "name": "stdout",
          "text": [
            "Future is done!\n"
          ]
        }
      ]
    },
    {
      "cell_type": "code",
      "source": [
        "import asyncio\n",
        "import nest_asyncio\n",
        "\n",
        "# Colabolatoryでasyncioを使用するために必要\n",
        "nest_asyncio.apply()\n",
        "\n",
        "async def hello(name):\n",
        "    print('Hello {}'.format(name))\n",
        "\n",
        "async def main():\n",
        "  loop = asyncio.get_event_loop()\n",
        "  loop.call_later(3, lambda: asyncio.create_task(hello('Mike')))\n",
        "  loop.call_soon(lambda: asyncio.create_task(hello('Nancy')))\n",
        "\n",
        "  # 5秒待機して両方の関数が実行されるのを確認\n",
        "  await asyncio.sleep(5)\n",
        "\n",
        "\n",
        "await main()\n"
      ],
      "metadata": {
        "colab": {
          "base_uri": "https://localhost:8080/"
        },
        "id": "h8AXaSFrK1G_",
        "outputId": "1370b8e4-46e2-49bf-d9d9-e0e8b89e3198"
      },
      "execution_count": null,
      "outputs": [
        {
          "output_type": "stream",
          "name": "stdout",
          "text": [
            "Hello Nancy\n",
            "Hello Mike\n"
          ]
        }
      ]
    },
    {
      "cell_type": "code",
      "source": [
        "import asyncio\n",
        "\n",
        "def print_message(message):\n",
        "    print(message)\n",
        "\n",
        "async def main():\n",
        "    loop = asyncio.get_running_loop()\n",
        "    loop.call_soon(print_message, \"Hello\")\n",
        "    loop.call_soon(print_message, \"World\")\n",
        "    await asyncio.sleep(0.1)\n",
        "\n",
        "asyncio.run(main())\n"
      ],
      "metadata": {
        "colab": {
          "base_uri": "https://localhost:8080/"
        },
        "id": "_YtX7x12TAX3",
        "outputId": "dab49725-ed41-47d9-c204-97b565226d73"
      },
      "execution_count": null,
      "outputs": [
        {
          "output_type": "stream",
          "name": "stdout",
          "text": [
            "Hello\n",
            "World\n"
          ]
        }
      ]
    },
    {
      "cell_type": "code",
      "source": [
        "import asyncio\n",
        "\n",
        "def func1():\n",
        "    print(\"Function 1 executed\")\n",
        "\n",
        "def func2():\n",
        "    print(\"Function 2 executed\")\n",
        "\n",
        "async def main():\n",
        "    loop = asyncio.get_running_loop()\n",
        "    loop.call_soon(func1)\n",
        "    loop.call_soon(func2)\n",
        "    await asyncio.sleep(0.1)\n",
        "\n",
        "asyncio.run(main())\n"
      ],
      "metadata": {
        "colab": {
          "base_uri": "https://localhost:8080/"
        },
        "id": "UTS27Fr3T8KO",
        "outputId": "dcb0283c-db65-47f6-e8b0-9ffdb3ebbed0"
      },
      "execution_count": null,
      "outputs": [
        {
          "output_type": "stream",
          "name": "stdout",
          "text": [
            "Function 1 executed\n",
            "Function 2 executed\n"
          ]
        }
      ]
    },
    {
      "cell_type": "code",
      "source": [
        "import asyncio\n",
        "\n",
        "async def compute(x, y):\n",
        "    print(\"Compute %s + %s ...\" % (x, y))\n",
        "    await asyncio.sleep(1.0)\n",
        "    return x + y\n",
        "\n",
        "async def print_sum(x, y):\n",
        "    result = await compute(x, y)\n",
        "    print(\"%s + %s = %s\" % (x, y, result))\n",
        "\n",
        "loop = asyncio.get_running_loop()\n",
        "loop.run_until_complete(print_sum(1, 2))\n"
      ],
      "metadata": {
        "colab": {
          "base_uri": "https://localhost:8080/"
        },
        "id": "gRa_v-wlVgEp",
        "outputId": "dcf6e635-78dc-46ab-95e9-223064e2d5a3"
      },
      "execution_count": null,
      "outputs": [
        {
          "output_type": "stream",
          "name": "stdout",
          "text": [
            "Compute 1 + 2 ...\n",
            "1 + 2 = 3\n"
          ]
        }
      ]
    },
    {
      "cell_type": "markdown",
      "source": [],
      "metadata": {
        "id": "rm5O9S4Cw_Uv"
      }
    },
    {
      "cell_type": "code",
      "source": [
        "import asyncio\n",
        "import types\n",
        "loop = asyncio.get_running_loop()\n",
        "\n",
        "@types.coroutine\n",
        "def request_server(name, loop):\n",
        "  yield\n",
        "  return \"done\"\n",
        "\n",
        "async def main(name, loop):\n",
        "  print(\"chunk reader\")\n",
        "  result = await request_server(name, loop)\n",
        "  print(result)\n",
        "\n",
        "asyncio.run(main(\"hello world\", loop))"
      ],
      "metadata": {
        "colab": {
          "base_uri": "https://localhost:8080/"
        },
        "id": "QRUkwWjGl7BM",
        "outputId": "b441c2bf-7c32-471a-82fe-abffe860e12b"
      },
      "execution_count": null,
      "outputs": [
        {
          "output_type": "stream",
          "name": "stdout",
          "text": [
            "chunk reader\n",
            "done\n"
          ]
        }
      ]
    },
    {
      "cell_type": "code",
      "source": [
        "d = {'x': 10, \"y\":20}\n",
        "\n",
        "print(type(d))"
      ],
      "metadata": {
        "id": "VMZSZNB6TJF3",
        "colab": {
          "base_uri": "https://localhost:8080/"
        },
        "outputId": "d12982c5-b5c9-4ab0-8bc2-20903896d9ae"
      },
      "execution_count": null,
      "outputs": [
        {
          "output_type": "stream",
          "name": "stdout",
          "text": [
            "<class 'dict'>\n"
          ]
        }
      ]
    },
    {
      "cell_type": "code",
      "source": [
        "dict(a=10, b=20)"
      ],
      "metadata": {
        "colab": {
          "base_uri": "https://localhost:8080/"
        },
        "id": "d4zjc2F-skvU",
        "outputId": "d7786993-f429-47e6-d2db-af56de1233e8"
      },
      "execution_count": null,
      "outputs": [
        {
          "output_type": "execute_result",
          "data": {
            "text/plain": [
              "{'a': 10, 'b': 20}"
            ]
          },
          "metadata": {},
          "execution_count": 3
        }
      ]
    },
    {
      "cell_type": "code",
      "source": [
        "d = dict(a=20, b=20)"
      ],
      "metadata": {
        "id": "s8nalKKhs0-o"
      },
      "execution_count": null,
      "outputs": []
    },
    {
      "cell_type": "code",
      "source": [
        "print(d)"
      ],
      "metadata": {
        "colab": {
          "base_uri": "https://localhost:8080/"
        },
        "id": "U94jiEXJs82B",
        "outputId": "892ee432-68df-4b10-b7a7-3adf9c60f138"
      },
      "execution_count": null,
      "outputs": [
        {
          "output_type": "stream",
          "name": "stdout",
          "text": [
            "{'a': 20, 'b': 20}\n"
          ]
        }
      ]
    },
    {
      "cell_type": "code",
      "source": [
        "help(d)"
      ],
      "metadata": {
        "colab": {
          "base_uri": "https://localhost:8080/"
        },
        "id": "0z882Nx3s-SS",
        "outputId": "ad3e9289-ee1f-40dc-d5b1-ac160ecf007c"
      },
      "execution_count": null,
      "outputs": [
        {
          "output_type": "stream",
          "name": "stdout",
          "text": [
            "Help on dict object:\n",
            "\n",
            "class dict(object)\n",
            " |  dict() -> new empty dictionary\n",
            " |  dict(mapping) -> new dictionary initialized from a mapping object's\n",
            " |      (key, value) pairs\n",
            " |  dict(iterable) -> new dictionary initialized as if via:\n",
            " |      d = {}\n",
            " |      for k, v in iterable:\n",
            " |          d[k] = v\n",
            " |  dict(**kwargs) -> new dictionary initialized with the name=value pairs\n",
            " |      in the keyword argument list.  For example:  dict(one=1, two=2)\n",
            " |  \n",
            " |  Built-in subclasses:\n",
            " |      StgDict\n",
            " |  \n",
            " |  Methods defined here:\n",
            " |  \n",
            " |  __contains__(self, key, /)\n",
            " |      True if the dictionary has the specified key, else False.\n",
            " |  \n",
            " |  __delitem__(self, key, /)\n",
            " |      Delete self[key].\n",
            " |  \n",
            " |  __eq__(self, value, /)\n",
            " |      Return self==value.\n",
            " |  \n",
            " |  __ge__(self, value, /)\n",
            " |      Return self>=value.\n",
            " |  \n",
            " |  __getattribute__(self, name, /)\n",
            " |      Return getattr(self, name).\n",
            " |  \n",
            " |  __getitem__(...)\n",
            " |      x.__getitem__(y) <==> x[y]\n",
            " |  \n",
            " |  __gt__(self, value, /)\n",
            " |      Return self>value.\n",
            " |  \n",
            " |  __init__(self, /, *args, **kwargs)\n",
            " |      Initialize self.  See help(type(self)) for accurate signature.\n",
            " |  \n",
            " |  __ior__(self, value, /)\n",
            " |      Return self|=value.\n",
            " |  \n",
            " |  __iter__(self, /)\n",
            " |      Implement iter(self).\n",
            " |  \n",
            " |  __le__(self, value, /)\n",
            " |      Return self<=value.\n",
            " |  \n",
            " |  __len__(self, /)\n",
            " |      Return len(self).\n",
            " |  \n",
            " |  __lt__(self, value, /)\n",
            " |      Return self<value.\n",
            " |  \n",
            " |  __ne__(self, value, /)\n",
            " |      Return self!=value.\n",
            " |  \n",
            " |  __or__(self, value, /)\n",
            " |      Return self|value.\n",
            " |  \n",
            " |  __repr__(self, /)\n",
            " |      Return repr(self).\n",
            " |  \n",
            " |  __reversed__(self, /)\n",
            " |      Return a reverse iterator over the dict keys.\n",
            " |  \n",
            " |  __ror__(self, value, /)\n",
            " |      Return value|self.\n",
            " |  \n",
            " |  __setitem__(self, key, value, /)\n",
            " |      Set self[key] to value.\n",
            " |  \n",
            " |  __sizeof__(...)\n",
            " |      D.__sizeof__() -> size of D in memory, in bytes\n",
            " |  \n",
            " |  clear(...)\n",
            " |      D.clear() -> None.  Remove all items from D.\n",
            " |  \n",
            " |  copy(...)\n",
            " |      D.copy() -> a shallow copy of D\n",
            " |  \n",
            " |  get(self, key, default=None, /)\n",
            " |      Return the value for key if key is in the dictionary, else default.\n",
            " |  \n",
            " |  items(...)\n",
            " |      D.items() -> a set-like object providing a view on D's items\n",
            " |  \n",
            " |  keys(...)\n",
            " |      D.keys() -> a set-like object providing a view on D's keys\n",
            " |  \n",
            " |  pop(...)\n",
            " |      D.pop(k[,d]) -> v, remove specified key and return the corresponding value.\n",
            " |      \n",
            " |      If the key is not found, return the default if given; otherwise,\n",
            " |      raise a KeyError.\n",
            " |  \n",
            " |  popitem(self, /)\n",
            " |      Remove and return a (key, value) pair as a 2-tuple.\n",
            " |      \n",
            " |      Pairs are returned in LIFO (last-in, first-out) order.\n",
            " |      Raises KeyError if the dict is empty.\n",
            " |  \n",
            " |  setdefault(self, key, default=None, /)\n",
            " |      Insert key with a value of default if key is not in the dictionary.\n",
            " |      \n",
            " |      Return the value for key if key is in the dictionary, else default.\n",
            " |  \n",
            " |  update(...)\n",
            " |      D.update([E, ]**F) -> None.  Update D from dict/iterable E and F.\n",
            " |      If E is present and has a .keys() method, then does:  for k in E: D[k] = E[k]\n",
            " |      If E is present and lacks a .keys() method, then does:  for k, v in E: D[k] = v\n",
            " |      In either case, this is followed by: for k in F:  D[k] = F[k]\n",
            " |  \n",
            " |  values(...)\n",
            " |      D.values() -> an object providing a view on D's values\n",
            " |  \n",
            " |  ----------------------------------------------------------------------\n",
            " |  Class methods defined here:\n",
            " |  \n",
            " |  __class_getitem__(...)\n",
            " |      See PEP 585\n",
            " |  \n",
            " |  fromkeys(iterable, value=None, /)\n",
            " |      Create a new dictionary with keys from iterable and values set to value.\n",
            " |  \n",
            " |  ----------------------------------------------------------------------\n",
            " |  Static methods defined here:\n",
            " |  \n",
            " |  __new__(*args, **kwargs)\n",
            " |      Create and return a new object.  See help(type) for accurate signature.\n",
            " |  \n",
            " |  ----------------------------------------------------------------------\n",
            " |  Data and other attributes defined here:\n",
            " |  \n",
            " |  __hash__ = None\n",
            "\n"
          ]
        }
      ]
    },
    {
      "cell_type": "code",
      "source": [
        "d.keys()"
      ],
      "metadata": {
        "colab": {
          "base_uri": "https://localhost:8080/"
        },
        "id": "SUZ_X9bWtAfh",
        "outputId": "89df277a-7f0d-41ee-c081-7e846df6f7d5"
      },
      "execution_count": null,
      "outputs": [
        {
          "output_type": "execute_result",
          "data": {
            "text/plain": [
              "dict_keys(['a', 'b'])"
            ]
          },
          "metadata": {},
          "execution_count": 7
        }
      ]
    },
    {
      "cell_type": "code",
      "source": [
        "d.values()"
      ],
      "metadata": {
        "colab": {
          "base_uri": "https://localhost:8080/"
        },
        "id": "jvdtYb-ntDI0",
        "outputId": "a28fd6de-2497-42cb-884a-992f20065227"
      },
      "execution_count": null,
      "outputs": [
        {
          "output_type": "execute_result",
          "data": {
            "text/plain": [
              "dict_values([20, 20])"
            ]
          },
          "metadata": {},
          "execution_count": 8
        }
      ]
    },
    {
      "cell_type": "code",
      "source": [
        "d2= {\"x\":1000, \"j\": 3000}"
      ],
      "metadata": {
        "id": "K4Ql8BNOtEjd"
      },
      "execution_count": null,
      "outputs": []
    },
    {
      "cell_type": "code",
      "source": [
        "d3 = {\"x\": 1000, \"j\":300, \"y\": 30000}"
      ],
      "metadata": {
        "id": "un1ekYQ7tLK8"
      },
      "execution_count": null,
      "outputs": []
    },
    {
      "cell_type": "code",
      "source": [
        "d2.update(d3)"
      ],
      "metadata": {
        "id": "C_y_QfA8tbau"
      },
      "execution_count": null,
      "outputs": []
    },
    {
      "cell_type": "code",
      "source": [
        "print(d2)"
      ],
      "metadata": {
        "colab": {
          "base_uri": "https://localhost:8080/"
        },
        "id": "VFejvyFDtdMq",
        "outputId": "3bf228ca-e361-4b87-f7ed-5d912ce4a7d1"
      },
      "execution_count": null,
      "outputs": [
        {
          "output_type": "stream",
          "name": "stdout",
          "text": [
            "{'x': 1000, 'j': 300, 'y': 30000}\n"
          ]
        }
      ]
    },
    {
      "cell_type": "code",
      "source": [
        "d.get(\"x\")"
      ],
      "metadata": {
        "id": "0lkefd7ptfRW"
      },
      "execution_count": null,
      "outputs": []
    },
    {
      "cell_type": "code",
      "source": [
        "r=d.get(\"z\")\n",
        "print(r)"
      ],
      "metadata": {
        "colab": {
          "base_uri": "https://localhost:8080/"
        },
        "id": "vvOaPZ9Ntmlk",
        "outputId": "e8b98715-e259-4899-d9da-3bd74bb19819"
      },
      "execution_count": null,
      "outputs": [
        {
          "output_type": "stream",
          "name": "stdout",
          "text": [
            "None\n"
          ]
        }
      ]
    },
    {
      "cell_type": "code",
      "source": [
        "d.get(\"a\")"
      ],
      "metadata": {
        "colab": {
          "base_uri": "https://localhost:8080/"
        },
        "id": "whbE6L8AtqLi",
        "outputId": "8b965fd3-67aa-4847-8dae-dc348157e0c7"
      },
      "execution_count": null,
      "outputs": [
        {
          "output_type": "execute_result",
          "data": {
            "text/plain": [
              "20"
            ]
          },
          "metadata": {},
          "execution_count": 15
        }
      ]
    },
    {
      "cell_type": "code",
      "source": [
        "d2.pop(\"x\")"
      ],
      "metadata": {
        "colab": {
          "base_uri": "https://localhost:8080/"
        },
        "id": "xNfxSPBQtubG",
        "outputId": "4bffb620-c993-45b8-ebde-5c403527f403"
      },
      "execution_count": null,
      "outputs": [
        {
          "output_type": "execute_result",
          "data": {
            "text/plain": [
              "1000"
            ]
          },
          "metadata": {},
          "execution_count": 17
        }
      ]
    },
    {
      "cell_type": "code",
      "source": [
        "print(d2)"
      ],
      "metadata": {
        "colab": {
          "base_uri": "https://localhost:8080/"
        },
        "id": "FWnaoB-St31U",
        "outputId": "c3cee210-9eec-4db5-86d1-2c79f27731b9"
      },
      "execution_count": null,
      "outputs": [
        {
          "output_type": "stream",
          "name": "stdout",
          "text": [
            "{'j': 300, 'y': 30000}\n"
          ]
        }
      ]
    },
    {
      "cell_type": "code",
      "source": [
        "d2.clear()"
      ],
      "metadata": {
        "id": "bdpUTLSmt5Ym"
      },
      "execution_count": null,
      "outputs": []
    },
    {
      "cell_type": "code",
      "source": [
        "print(d2)"
      ],
      "metadata": {
        "colab": {
          "base_uri": "https://localhost:8080/"
        },
        "id": "ttZY1mozuBLX",
        "outputId": "90677476-6930-41fa-e481-2d2c36785767"
      },
      "execution_count": null,
      "outputs": [
        {
          "output_type": "stream",
          "name": "stdout",
          "text": [
            "{}\n"
          ]
        }
      ]
    },
    {
      "cell_type": "code",
      "source": [
        "d2={\"a\":200, \"b\":399}\n",
        "\"a\" in d2"
      ],
      "metadata": {
        "colab": {
          "base_uri": "https://localhost:8080/"
        },
        "id": "69djQxc_uCK8",
        "outputId": "b399e986-528a-4a1e-f5f8-fe135ed79c6a"
      },
      "execution_count": null,
      "outputs": [
        {
          "output_type": "execute_result",
          "data": {
            "text/plain": [
              "True"
            ]
          },
          "metadata": {},
          "execution_count": 21
        }
      ]
    },
    {
      "cell_type": "code",
      "source": [
        "x = {\"a\":1}\n",
        "y=x.copy()\n",
        "\n",
        "y[\"a\"]= 2\n",
        "\n",
        "print(x)\n",
        "print(y)"
      ],
      "metadata": {
        "colab": {
          "base_uri": "https://localhost:8080/"
        },
        "id": "mcfOWndauKz0",
        "outputId": "78de3a70-3396-4a6a-ce25-9734b50d4695"
      },
      "execution_count": null,
      "outputs": [
        {
          "output_type": "stream",
          "name": "stdout",
          "text": [
            "{'a': 1}\n",
            "{'a': 2}\n"
          ]
        }
      ]
    },
    {
      "cell_type": "code",
      "source": [
        "fruits = {\n",
        "    \"apple\":100,\n",
        "    \"banana\": 200,\n",
        "    \"orange\":200\n",
        "}\n",
        "\n",
        "print(fruits[\"apple\"])\n",
        "\n",
        "#　本の目次のようにすぐkeyを見つける"
      ],
      "metadata": {
        "colab": {
          "base_uri": "https://localhost:8080/"
        },
        "id": "Jp3wDan3u6e9",
        "outputId": "a1effaaa-a761-49fd-f6c0-335abadf0f6b"
      },
      "execution_count": null,
      "outputs": [
        {
          "output_type": "stream",
          "name": "stdout",
          "text": [
            "100\n"
          ]
        }
      ]
    },
    {
      "cell_type": "code",
      "source": [
        "l = [[\"apple\", 100],\n",
        "     [\"banana\",300],\n",
        "     [\"orange\",300]]\n",
        "\n",
        "#検索に時間がかかる"
      ],
      "metadata": {
        "id": "yLD3v9YqvRSL"
      },
      "execution_count": null,
      "outputs": []
    },
    {
      "cell_type": "code",
      "source": [
        "a = {1,2,3,4,4,5,6}"
      ],
      "metadata": {
        "id": "tPs8s26ZwaVh"
      },
      "execution_count": null,
      "outputs": []
    },
    {
      "cell_type": "code",
      "source": [
        "print(a)"
      ],
      "metadata": {
        "colab": {
          "base_uri": "https://localhost:8080/"
        },
        "id": "Z91yVc7OwgnN",
        "outputId": "3a5316d9-d05f-464b-c934-8eda418a0122"
      },
      "execution_count": null,
      "outputs": [
        {
          "output_type": "stream",
          "name": "stdout",
          "text": [
            "{1, 2, 3, 4, 5, 6}\n"
          ]
        }
      ]
    },
    {
      "cell_type": "code",
      "source": [
        "type(a)"
      ],
      "metadata": {
        "colab": {
          "base_uri": "https://localhost:8080/"
        },
        "id": "JyMQUZkUwhnb",
        "outputId": "edff5f63-411f-4fee-d736-891095036329"
      },
      "execution_count": null,
      "outputs": [
        {
          "output_type": "execute_result",
          "data": {
            "text/plain": [
              "set"
            ]
          },
          "metadata": {},
          "execution_count": 27
        }
      ]
    },
    {
      "cell_type": "code",
      "source": [
        "b={2,3,4,4,5\n",
        "   }\n",
        "\n",
        "type(b)"
      ],
      "metadata": {
        "colab": {
          "base_uri": "https://localhost:8080/"
        },
        "id": "PqicycSIwkiY",
        "outputId": "bc5f649d-4252-485c-d18b-24c18178188b"
      },
      "execution_count": null,
      "outputs": [
        {
          "output_type": "execute_result",
          "data": {
            "text/plain": [
              "set"
            ]
          },
          "metadata": {},
          "execution_count": 28
        }
      ]
    },
    {
      "cell_type": "code",
      "source": [
        "a-b"
      ],
      "metadata": {
        "colab": {
          "base_uri": "https://localhost:8080/"
        },
        "id": "g_j56N83wrI2",
        "outputId": "f48861be-618f-4861-c8a6-91e45157cfc0"
      },
      "execution_count": null,
      "outputs": [
        {
          "output_type": "execute_result",
          "data": {
            "text/plain": [
              "{1, 6}"
            ]
          },
          "metadata": {},
          "execution_count": 29
        }
      ]
    },
    {
      "cell_type": "code",
      "source": [
        "b-a"
      ],
      "metadata": {
        "colab": {
          "base_uri": "https://localhost:8080/"
        },
        "id": "EtRcERuMwse8",
        "outputId": "3edc2e27-c551-4600-ba18-6f9fd7a83145"
      },
      "execution_count": null,
      "outputs": [
        {
          "output_type": "execute_result",
          "data": {
            "text/plain": [
              "set()"
            ]
          },
          "metadata": {},
          "execution_count": 30
        }
      ]
    },
    {
      "cell_type": "code",
      "source": [
        "a-b"
      ],
      "metadata": {
        "colab": {
          "base_uri": "https://localhost:8080/"
        },
        "id": "OAvF6neoxLAR",
        "outputId": "5e7eca76-05a4-445e-91e1-47abb33f1a01"
      },
      "execution_count": null,
      "outputs": [
        {
          "output_type": "execute_result",
          "data": {
            "text/plain": [
              "{1, 6}"
            ]
          },
          "metadata": {},
          "execution_count": 31
        }
      ]
    },
    {
      "cell_type": "code",
      "source": [
        "a & b"
      ],
      "metadata": {
        "colab": {
          "base_uri": "https://localhost:8080/"
        },
        "id": "oVNw_Rw-xOb9",
        "outputId": "ad4d6f27-3fd4-4405-96e1-91ec73074369"
      },
      "execution_count": null,
      "outputs": [
        {
          "output_type": "execute_result",
          "data": {
            "text/plain": [
              "{2, 3, 4, 5}"
            ]
          },
          "metadata": {},
          "execution_count": 32
        }
      ]
    },
    {
      "cell_type": "code",
      "source": [
        "s = {1,2,3,4,5}"
      ],
      "metadata": {
        "id": "hevI1R1MxTzs"
      },
      "execution_count": null,
      "outputs": []
    },
    {
      "cell_type": "code",
      "source": [
        "s.add(6)"
      ],
      "metadata": {
        "id": "4LBosCrlxoXV"
      },
      "execution_count": null,
      "outputs": []
    },
    {
      "cell_type": "code",
      "source": [
        "s"
      ],
      "metadata": {
        "colab": {
          "base_uri": "https://localhost:8080/"
        },
        "id": "7E3HbvYQxsYe",
        "outputId": "28e33040-de8a-4039-cb39-73dca670d0fb"
      },
      "execution_count": null,
      "outputs": [
        {
          "output_type": "execute_result",
          "data": {
            "text/plain": [
              "{1, 2, 3, 4, 5, 6}"
            ]
          },
          "metadata": {},
          "execution_count": 35
        }
      ]
    },
    {
      "cell_type": "code",
      "source": [
        "s.remove(6)"
      ],
      "metadata": {
        "id": "t3WHCkS3xsxP"
      },
      "execution_count": null,
      "outputs": []
    },
    {
      "cell_type": "code",
      "source": [
        "s.clear()"
      ],
      "metadata": {
        "id": "vrEq1-roxwoy"
      },
      "execution_count": null,
      "outputs": []
    },
    {
      "cell_type": "code",
      "source": [
        "s"
      ],
      "metadata": {
        "colab": {
          "base_uri": "https://localhost:8080/"
        },
        "id": "S6JGfJDVxz4d",
        "outputId": "791641bf-f898-4fee-c4e6-7b381536dde4"
      },
      "execution_count": null,
      "outputs": [
        {
          "output_type": "execute_result",
          "data": {
            "text/plain": [
              "set()"
            ]
          },
          "metadata": {},
          "execution_count": 38
        }
      ]
    },
    {
      "cell_type": "code",
      "source": [
        "help(set)"
      ],
      "metadata": {
        "colab": {
          "base_uri": "https://localhost:8080/"
        },
        "id": "Q-PxyTf8x1fM",
        "outputId": "2a31a35a-9cd6-41d3-c4b5-1e9e32b44739"
      },
      "execution_count": null,
      "outputs": [
        {
          "output_type": "stream",
          "name": "stdout",
          "text": [
            "Help on class set in module builtins:\n",
            "\n",
            "class set(object)\n",
            " |  set() -> new empty set object\n",
            " |  set(iterable) -> new set object\n",
            " |  \n",
            " |  Build an unordered collection of unique elements.\n",
            " |  \n",
            " |  Methods defined here:\n",
            " |  \n",
            " |  __and__(self, value, /)\n",
            " |      Return self&value.\n",
            " |  \n",
            " |  __contains__(...)\n",
            " |      x.__contains__(y) <==> y in x.\n",
            " |  \n",
            " |  __eq__(self, value, /)\n",
            " |      Return self==value.\n",
            " |  \n",
            " |  __ge__(self, value, /)\n",
            " |      Return self>=value.\n",
            " |  \n",
            " |  __getattribute__(self, name, /)\n",
            " |      Return getattr(self, name).\n",
            " |  \n",
            " |  __gt__(self, value, /)\n",
            " |      Return self>value.\n",
            " |  \n",
            " |  __iand__(self, value, /)\n",
            " |      Return self&=value.\n",
            " |  \n",
            " |  __init__(self, /, *args, **kwargs)\n",
            " |      Initialize self.  See help(type(self)) for accurate signature.\n",
            " |  \n",
            " |  __ior__(self, value, /)\n",
            " |      Return self|=value.\n",
            " |  \n",
            " |  __isub__(self, value, /)\n",
            " |      Return self-=value.\n",
            " |  \n",
            " |  __iter__(self, /)\n",
            " |      Implement iter(self).\n",
            " |  \n",
            " |  __ixor__(self, value, /)\n",
            " |      Return self^=value.\n",
            " |  \n",
            " |  __le__(self, value, /)\n",
            " |      Return self<=value.\n",
            " |  \n",
            " |  __len__(self, /)\n",
            " |      Return len(self).\n",
            " |  \n",
            " |  __lt__(self, value, /)\n",
            " |      Return self<value.\n",
            " |  \n",
            " |  __ne__(self, value, /)\n",
            " |      Return self!=value.\n",
            " |  \n",
            " |  __or__(self, value, /)\n",
            " |      Return self|value.\n",
            " |  \n",
            " |  __rand__(self, value, /)\n",
            " |      Return value&self.\n",
            " |  \n",
            " |  __reduce__(...)\n",
            " |      Return state information for pickling.\n",
            " |  \n",
            " |  __repr__(self, /)\n",
            " |      Return repr(self).\n",
            " |  \n",
            " |  __ror__(self, value, /)\n",
            " |      Return value|self.\n",
            " |  \n",
            " |  __rsub__(self, value, /)\n",
            " |      Return value-self.\n",
            " |  \n",
            " |  __rxor__(self, value, /)\n",
            " |      Return value^self.\n",
            " |  \n",
            " |  __sizeof__(...)\n",
            " |      S.__sizeof__() -> size of S in memory, in bytes\n",
            " |  \n",
            " |  __sub__(self, value, /)\n",
            " |      Return self-value.\n",
            " |  \n",
            " |  __xor__(self, value, /)\n",
            " |      Return self^value.\n",
            " |  \n",
            " |  add(...)\n",
            " |      Add an element to a set.\n",
            " |      \n",
            " |      This has no effect if the element is already present.\n",
            " |  \n",
            " |  clear(...)\n",
            " |      Remove all elements from this set.\n",
            " |  \n",
            " |  copy(...)\n",
            " |      Return a shallow copy of a set.\n",
            " |  \n",
            " |  difference(...)\n",
            " |      Return the difference of two or more sets as a new set.\n",
            " |      \n",
            " |      (i.e. all elements that are in this set but not the others.)\n",
            " |  \n",
            " |  difference_update(...)\n",
            " |      Remove all elements of another set from this set.\n",
            " |  \n",
            " |  discard(...)\n",
            " |      Remove an element from a set if it is a member.\n",
            " |      \n",
            " |      Unlike set.remove(), the discard() method does not raise\n",
            " |      an exception when an element is missing from the set.\n",
            " |  \n",
            " |  intersection(...)\n",
            " |      Return the intersection of two sets as a new set.\n",
            " |      \n",
            " |      (i.e. all elements that are in both sets.)\n",
            " |  \n",
            " |  intersection_update(...)\n",
            " |      Update a set with the intersection of itself and another.\n",
            " |  \n",
            " |  isdisjoint(...)\n",
            " |      Return True if two sets have a null intersection.\n",
            " |  \n",
            " |  issubset(self, other, /)\n",
            " |      Test whether every element in the set is in other.\n",
            " |  \n",
            " |  issuperset(self, other, /)\n",
            " |      Test whether every element in other is in the set.\n",
            " |  \n",
            " |  pop(...)\n",
            " |      Remove and return an arbitrary set element.\n",
            " |      Raises KeyError if the set is empty.\n",
            " |  \n",
            " |  remove(...)\n",
            " |      Remove an element from a set; it must be a member.\n",
            " |      \n",
            " |      If the element is not a member, raise a KeyError.\n",
            " |  \n",
            " |  symmetric_difference(...)\n",
            " |      Return the symmetric difference of two sets as a new set.\n",
            " |      \n",
            " |      (i.e. all elements that are in exactly one of the sets.)\n",
            " |  \n",
            " |  symmetric_difference_update(...)\n",
            " |      Update a set with the symmetric difference of itself and another.\n",
            " |  \n",
            " |  union(...)\n",
            " |      Return the union of sets as a new set.\n",
            " |      \n",
            " |      (i.e. all elements that are in either set.)\n",
            " |  \n",
            " |  update(...)\n",
            " |      Update a set with the union of itself and others.\n",
            " |  \n",
            " |  ----------------------------------------------------------------------\n",
            " |  Class methods defined here:\n",
            " |  \n",
            " |  __class_getitem__(...)\n",
            " |      See PEP 585\n",
            " |  \n",
            " |  ----------------------------------------------------------------------\n",
            " |  Static methods defined here:\n",
            " |  \n",
            " |  __new__(*args, **kwargs)\n",
            " |      Create and return a new object.  See help(type) for accurate signature.\n",
            " |  \n",
            " |  ----------------------------------------------------------------------\n",
            " |  Data and other attributes defined here:\n",
            " |  \n",
            " |  __hash__ = None\n",
            "\n"
          ]
        }
      ]
    },
    {
      "cell_type": "code",
      "source": [
        "import sample_data"
      ],
      "metadata": {
        "id": "13S7rRPYp6WV"
      },
      "execution_count": 7,
      "outputs": []
    },
    {
      "cell_type": "code",
      "source": [
        "import pkgutil\n",
        "\n",
        "\n",
        "for moduleinfo in pkgutil.iter_modules(sample_data.__path__):\n",
        "  print(moduleinfo)"
      ],
      "metadata": {
        "id": "l65FhkQRx_zc",
        "colab": {
          "base_uri": "https://localhost:8080/"
        },
        "outputId": "3695888a-2da3-4cbf-f38e-6961d3011fba"
      },
      "execution_count": 19,
      "outputs": [
        {
          "output_type": "stream",
          "name": "stdout",
          "text": [
            "ModuleInfo(module_finder=FileFinder('/content/sample_data'), name='sample', ispkg=False)\n"
          ]
        }
      ]
    }
  ]
}