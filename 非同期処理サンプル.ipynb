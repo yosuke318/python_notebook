{
  "nbformat": 4,
  "nbformat_minor": 0,
  "metadata": {
    "colab": {
      "provenance": [],
      "authorship_tag": "ABX9TyMuchMZdCpInfZH0N6ibDdT",
      "include_colab_link": true
    },
    "kernelspec": {
      "name": "python3",
      "display_name": "Python 3"
    },
    "language_info": {
      "name": "python"
    }
  },
  "cells": [
    {
      "cell_type": "markdown",
      "metadata": {
        "id": "view-in-github",
        "colab_type": "text"
      },
      "source": [
        "<a href=\"https://colab.research.google.com/github/yosuke318/python_notebook/blob/main/%E9%9D%9E%E5%90%8C%E6%9C%9F%E5%87%A6%E7%90%86%E3%82%B5%E3%83%B3%E3%83%97%E3%83%AB.ipynb\" target=\"_parent\"><img src=\"https://colab.research.google.com/assets/colab-badge.svg\" alt=\"Open In Colab\"/></a>"
      ]
    },
    {
      "cell_type": "markdown",
      "source": [
        "# 遅延処理の例"
      ],
      "metadata": {
        "id": "xLz8UUiivT-G"
      }
    },
    {
      "cell_type": "code",
      "source": [
        "import asyncio\n",
        "\n",
        "async def delayed_function(seconds):\n",
        "    await asyncio.sleep(seconds)\n",
        "    print(f\"{seconds}秒後に実行\")\n",
        "\n",
        "async def main():\n",
        "    await asyncio.gather(\n",
        "        delayed_function(3),\n",
        "        delayed_function(5)\n",
        "    )\n",
        "\n",
        "await main()"
      ],
      "metadata": {
        "id": "045NsQDgbV9P"
      },
      "execution_count": 11,
      "outputs": []
    },
    {
      "cell_type": "markdown",
      "source": [
        "# 同期関数から非同期関数を呼ぶ"
      ],
      "metadata": {
        "id": "jl6tJOCZv0vL"
      }
    },
    {
      "cell_type": "code",
      "source": [
        "import asyncio\n",
        "import time\n",
        "\n",
        "async def async_func():\n",
        "    print(\"func: start async_func\")\n",
        "    await asyncio.sleep(1)\n",
        "    print(\"func: end async_func\")\n",
        "\n",
        "def main():\n",
        "    print(\"main: start main\")\n",
        "    print(\"main: before func\")\n",
        "    loop = asyncio.get_event_loop()\n",
        "    future: Future = loop.run_in_executor(None, sync_func)\n",
        "    print(\"main: after func\")\n",
        "    time.sleep(3)\n",
        "    print(\"main: end main\")\n",
        "\n",
        "\n",
        "main()"
      ],
      "metadata": {
        "colab": {
          "base_uri": "https://localhost:8080/"
        },
        "id": "aAmtVTVOwEvr",
        "outputId": "db934e5e-6641-4ec9-ab96-1396ad2785f7"
      },
      "execution_count": 39,
      "outputs": [
        {
          "output_type": "stream",
          "name": "stdout",
          "text": [
            "main: start main\n",
            "main: before func\n",
            "main: after func\n",
            "func: start sync_func\n",
            "func: end sync_func\n",
            "main: end main\n"
          ]
        }
      ]
    },
    {
      "cell_type": "markdown",
      "source": [
        "# **非同期関数から非同期関数を呼ぶ**\n"
      ],
      "metadata": {
        "id": "g9PnxwTptB7D"
      }
    },
    {
      "cell_type": "code",
      "source": [
        "import asyncio\n",
        "import time\n",
        "\n",
        "\n",
        "async def async_func():\n",
        "    print(\"func: start async_func\")\n",
        "    await asyncio.sleep(1)\n",
        "    print(\"func: end async_func\")\n",
        "\n",
        "async def main():\n",
        "    print(\"main: start main\")\n",
        "    print(\"main: before func\")\n",
        "    res = async_func()\n",
        "    print(\"main: after func\")\n",
        "    print(\"main: before await\")\n",
        "    print(\"main: after await\")\n",
        "    await asyncio.sleep(3)\n",
        "    print(\"main: end main\")\n",
        "\n",
        "\n",
        "await main()\n"
      ],
      "metadata": {
        "colab": {
          "base_uri": "https://localhost:8080/"
        },
        "id": "lzKdaKK9f8kt",
        "outputId": "40c2bdb4-2d34-49b2-964e-02ff175a29f5"
      },
      "execution_count": 31,
      "outputs": [
        {
          "output_type": "stream",
          "name": "stdout",
          "text": [
            "main: start main\n",
            "main: before func\n",
            "main: after func\n",
            "main: before await\n",
            "main: after await\n",
            "main: end main\n"
          ]
        },
        {
          "output_type": "stream",
          "name": "stderr",
          "text": [
            "<ipython-input-31-fecab63cd421>:21: RuntimeWarning: coroutine 'async_func' was never awaited\n",
            "  await main()\n",
            "RuntimeWarning: Enable tracemalloc to get the object allocation traceback\n"
          ]
        }
      ]
    },
    {
      "cell_type": "markdown",
      "source": [
        "上記の場合、非同期関数(coroutine)をawiatなしで実行したために、`RuntimeWarning: coroutine async_func was never awaited`という警告が出る。基本的にasync def で定義された関数は別のasync def関数でのみawaitできる。"
      ],
      "metadata": {
        "id": "ynLap6JLt-fA"
      }
    },
    {
      "cell_type": "markdown",
      "source": [
        "上記の処理を修正し、coroutineにawaitをつけて実行"
      ],
      "metadata": {
        "id": "bZwsKfezvjcj"
      }
    },
    {
      "cell_type": "code",
      "source": [
        "import asyncio\n",
        "import time\n",
        "\n",
        "\n",
        "async def async_func():\n",
        "    print(\"func: start async_func\")\n",
        "    await asyncio.sleep(1)\n",
        "    print(\"func: end async_func\")\n",
        "\n",
        "async def main():\n",
        "    print(\"main: start main\")\n",
        "    print(\"main: before func\")\n",
        "    await async_func()\n",
        "    print(\"main: after func\")\n",
        "    print(\"main: before await\")\n",
        "    print(\"main: after await\")\n",
        "    await asyncio.sleep(3)\n",
        "    print(\"main: end main\")\n",
        "\n",
        "\n",
        "await main()"
      ],
      "metadata": {
        "colab": {
          "base_uri": "https://localhost:8080/"
        },
        "id": "njAzYGWIvDOf",
        "outputId": "c8e0084c-32c4-4d1a-cd18-426b112e71d6"
      },
      "execution_count": 32,
      "outputs": [
        {
          "output_type": "stream",
          "name": "stdout",
          "text": [
            "main: start main\n",
            "main: before func\n",
            "func: start async_func\n",
            "func: end async_func\n",
            "main: after func\n",
            "main: before await\n",
            "main: after await\n",
            "main: end main\n"
          ]
        }
      ]
    },
    {
      "cell_type": "markdown",
      "source": [
        "# 同期関数の完了を待たずに実行"
      ],
      "metadata": {
        "id": "_RmYfq61hdyZ"
      }
    },
    {
      "cell_type": "code",
      "source": [
        "import asyncio\n",
        "import time\n",
        "\n",
        "def sync_func():\n",
        "  print(\"func: start sync_func\")\n",
        "  print(\"func: end sync_func\")\n",
        "\n",
        "\n",
        "async def main():\n",
        "  print(\"main: start main\")\n",
        "  print(\"main: before func\")\n",
        "\n",
        "  loop = asyncio.get_event_loop()\n",
        "  future: Future = loop.run_in_executor(None, sync_func)\n",
        "\n",
        "  print(\"main: after func\")\n",
        "  await asyncio.sleep(3)\n",
        "\n",
        "  # run_in_executerの戻り値futureをawaitすることでより確実にsync_funcの完了を待つことができる\n",
        "  # await future\n",
        "  print(\"main: end main\")\n",
        "\n",
        "await main()"
      ],
      "metadata": {
        "colab": {
          "base_uri": "https://localhost:8080/"
        },
        "id": "QEz-sef8gtTq",
        "outputId": "b84455fa-2682-4749-f1f2-c4356a721cdb"
      },
      "execution_count": 29,
      "outputs": [
        {
          "output_type": "stream",
          "name": "stdout",
          "text": [
            "main: start main\n",
            "main: before func\n",
            "main: after funcfunc: start sync_func\n",
            "func: end sync_func\n",
            "\n",
            "main: end main\n"
          ]
        }
      ]
    },
    {
      "cell_type": "markdown",
      "source": [
        "# 非同期関数の呼び出し時点から実行を開始して欲しい場合\n",
        "\n",
        "ここではcreate_task関数を使って、async_func開始直後に`main: after func`を標準出力に出す"
      ],
      "metadata": {
        "id": "ioP4mFj73Lqz"
      }
    },
    {
      "cell_type": "code",
      "source": [
        "import asyncio\n",
        "import time\n",
        "\n",
        "async def async_func():\n",
        "    print(\"func: start async_func\")\n",
        "    await asyncio.sleep(1)\n",
        "    print(\"func: end async_func\")\n",
        "\n",
        "async def main():\n",
        "    print(\"main: start main\")\n",
        "    print(\"main: before func\")\n",
        "    task = asyncio.create_task(async_func())\n",
        "    await asyncio.sleep(0)\n",
        "    print(\"main: after func\")\n",
        "    await asyncio.sleep(3)\n",
        "    print(\"main: end main\")\n",
        "\n",
        "\n",
        "await main()"
      ],
      "metadata": {
        "colab": {
          "base_uri": "https://localhost:8080/"
        },
        "id": "xa0TPH6Y2Zcw",
        "outputId": "9a2519a7-e4b1-4f89-ff91-680d5028f1c5"
      },
      "execution_count": 42,
      "outputs": [
        {
          "output_type": "stream",
          "name": "stdout",
          "text": [
            "main: start main\n",
            "main: before func\n",
            "func: start async_func\n",
            "main: after func\n",
            "func: end async_func\n",
            "main: end main\n"
          ]
        }
      ]
    }
  ]
}