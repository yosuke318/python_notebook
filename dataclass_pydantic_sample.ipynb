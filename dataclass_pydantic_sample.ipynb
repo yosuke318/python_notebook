{
  "nbformat": 4,
  "nbformat_minor": 0,
  "metadata": {
    "colab": {
      "provenance": [],
      "authorship_tag": "ABX9TyOpwh+mYmVPcYUiSMRWC5DG",
      "include_colab_link": true
    },
    "kernelspec": {
      "name": "python3",
      "display_name": "Python 3"
    },
    "language_info": {
      "name": "python"
    }
  },
  "cells": [
    {
      "cell_type": "markdown",
      "metadata": {
        "id": "view-in-github",
        "colab_type": "text"
      },
      "source": [
        "<a href=\"https://colab.research.google.com/github/yosuke318/python_notebook/blob/main/dataclass_pydantic_sample.ipynb\" target=\"_parent\"><img src=\"https://colab.research.google.com/assets/colab-badge.svg\" alt=\"Open In Colab\"/></a>"
      ]
    },
    {
      "cell_type": "code",
      "execution_count": 6,
      "metadata": {
        "id": "fjISmQNhY1Pk"
      },
      "outputs": [],
      "source": [
        "import pprint"
      ]
    },
    {
      "cell_type": "code",
      "source": [
        "from dataclasses import dataclass\n",
        "@dataclass(slots=True) # __slots__を使用することでメモリ使用量を大幅に削減できます\n",
        "class Product:\n",
        "  id: int\n",
        "  name: str\n",
        "  price:float\n",
        "\n",
        "product1 = Product(id=1, name=\"apple\", price=100.0)\n",
        "pprint.pprint(product1)\n",
        "\n",
        "product2 = Product(id=\"2\", name=\"greenapple\", price=\"1000\")\n",
        "pprint.pprint(product2)"
      ],
      "metadata": {
        "colab": {
          "base_uri": "https://localhost:8080/"
        },
        "id": "QPyHrlwUZJ_0",
        "outputId": "8953a9ee-6985-4b12-928b-f13221ef1678"
      },
      "execution_count": 15,
      "outputs": [
        {
          "output_type": "stream",
          "name": "stdout",
          "text": [
            "Product(id=1, name='apple', price=100.0)\n",
            "Product(id='2', name='greenapple', price='1000')\n"
          ]
        }
      ]
    },
    {
      "cell_type": "code",
      "source": [
        "from pydantic.dataclasses import rebuild_dataclass\n",
        "from pydantic import ValidationError, Field, BaseModel\n",
        "\n",
        "\n",
        "class Book(BaseModel):\n",
        "  title: str=Field(strict=True)\n",
        "  pages: int=Field(strict=True)\n",
        "\n",
        "try:\n",
        "  book = Book(title=\"111\", pages=\"123\")\n",
        "  pprint.pprint(book)\n",
        "except ValidationError as e:\n",
        "  pprint.pprint(e)"
      ],
      "metadata": {
        "colab": {
          "base_uri": "https://localhost:8080/"
        },
        "id": "irNB2P54ZrPn",
        "outputId": "5327e9fc-7e70-4aa1-d811-891f7e787f51"
      },
      "execution_count": 23,
      "outputs": [
        {
          "output_type": "stream",
          "name": "stdout",
          "text": [
            "1 validation error for Book\n",
            "pages\n",
            "  Input should be a valid integer [type=int_type, input_value='123', input_type=str]\n",
            "    For further information visit https://errors.pydantic.dev/2.10/v/int_type\n"
          ]
        }
      ]
    },
    {
      "cell_type": "code",
      "source": [
        "from datetime import date\n",
        "from typing import Optional, List\n",
        "from pydantic import HttpUrl, Field\n",
        "\n",
        "class TecnicalBook(Book):\n",
        "  isbn: str = Field(strict=True, pattern=r'^(?:\\d{10}|\\d{13})$')\n",
        "  author: str = Field(strict=True)\n",
        "  publication_date: date = Field(strict=True)\n",
        "  programming_language: Optional[str]=Field(default=None, strict=True)\n",
        "  topics: List[str]=Field(default_factory=list)\n",
        "  edition: Optional[int] = Field(defalut=1, strict=True, ge=1)\n",
        "  publisher: str = Field(strict=True)\n",
        "  website: Optional[HttpUrl] = Field(defalut=None)\n",
        "\n",
        "  class Config:\n",
        "    extra = 'forbid'"
      ],
      "metadata": {
        "id": "HdwlJgE8b4FT"
      },
      "execution_count": 31,
      "outputs": []
    },
    {
      "cell_type": "code",
      "source": [
        "from datetime import date\n",
        "\n",
        "tech_book = TecnicalBook(\n",
        "    title=\"Python高速プログラミング\",\n",
        "    pages=300,\n",
        "    isbn=\"9784873119120\",\n",
        "    author=\"ミーカ・ルーソ\",\n",
        "    publication_date=date(2023, 1, 1),\n",
        "    programming_language=\"Python\",\n",
        "    topics=[\"最適化\", \"並列処理\", \"非同期プログラミング\"],\n",
        "    edition=2,\n",
        "    publisher=\"オライリージャパン\",\n",
        "    website=\"https://www.oreilly.co.jp/books/9784873119120/\"\n",
        ")\n",
        "\n",
        "pprint.pprint(tech_book)\n"
      ],
      "metadata": {
        "colab": {
          "base_uri": "https://localhost:8080/"
        },
        "id": "qjEMlaDafxUu",
        "outputId": "ba7ceee3-cb12-4000-ab10-5ae748e9acda"
      },
      "execution_count": 32,
      "outputs": [
        {
          "output_type": "stream",
          "name": "stdout",
          "text": [
            "TecnicalBook(title='Python高速プログラミング', pages=300, isbn='9784873119120', author='ミーカ・ルーソ', publication_date=datetime.date(2023, 1, 1), programming_language='Python', topics=['最適化', '並列処理', '非同期プログラミング'], edition=2, publisher='オライリージャパン', website=HttpUrl('https://www.oreilly.co.jp/books/9784873119120/'))\n"
          ]
        }
      ]
    },
    {
      "cell_type": "code",
      "source": [
        "from pydantic import BaseModel, validator,conint, constr, UrlConstraints\n",
        "from typing import List\n",
        "\n",
        "class Person(BaseModel):\n",
        "  name: constr(strip_whitespace=True, min_length=1)\n",
        "  age: conint(ge=10, le=100)\n",
        "\n",
        "\n",
        "\n"
      ],
      "metadata": {
        "colab": {
          "base_uri": "https://localhost:8080/"
        },
        "id": "vOAm171ypApX",
        "outputId": "91a3c401-a25b-46c2-df41-464da9d2e2f5"
      },
      "execution_count": 37,
      "outputs": [
        {
          "output_type": "stream",
          "name": "stderr",
          "text": [
            "<ipython-input-37-1be3c8f13ccf>:12: PydanticDeprecatedSince20: Pydantic V1 style `@validator` validators are deprecated. You should migrate to Pydantic V2 style `@field_validator` validators, see the migration guide for more details. Deprecated in Pydantic V2.0 to be removed in V3.0. See Pydantic V2 Migration Guide at https://errors.pydantic.dev/2.10/migration/\n",
            "  @validator('experiences')\n"
          ]
        }
      ]
    },
    {
      "cell_type": "code",
      "source": [
        "class Engineer(Person):\n",
        "    skills: List[str]\n",
        "    experiences: List[int]\n",
        "\n",
        "    @validator('experiences')\n",
        "    @classmethod\n",
        "    def check_experiences(cls, v, values):\n",
        "        required_experience = {\n",
        "            'Python': 3,\n",
        "            'Java': 3,\n",
        "            'C++': 3,\n",
        "            # 他の言語と必要な経験年数を追加\n",
        "        }\n",
        "        for skill in values.get('skills', []):\n",
        "            if skill in required_experience and any(exp < required_experience[skill] for exp in v):\n",
        "                raise ValueError(f'{skill} engineer must have at least {required_experience[skill]} years of experience')\n",
        "        return v"
      ],
      "metadata": {
        "colab": {
          "base_uri": "https://localhost:8080/"
        },
        "id": "OfV4r4jMpb19",
        "outputId": "063d41a1-96ff-406d-b688-37804aff740f"
      },
      "execution_count": 42,
      "outputs": [
        {
          "output_type": "stream",
          "name": "stderr",
          "text": [
            "<ipython-input-42-38f51d72ea60>:5: PydanticDeprecatedSince20: Pydantic V1 style `@validator` validators are deprecated. You should migrate to Pydantic V2 style `@field_validator` validators, see the migration guide for more details. Deprecated in Pydantic V2.0 to be removed in V3.0. See Pydantic V2 Migration Guide at https://errors.pydantic.dev/2.10/migration/\n",
            "  @validator('experiences')\n"
          ]
        }
      ]
    },
    {
      "cell_type": "code",
      "source": [
        "try:\n",
        "    engineer = Engineer(name=\"John Doe\", age=30, skills=[\"Python\"], experiences=[2])\n",
        "except ValidationError as e:\n",
        "    print(e)"
      ],
      "metadata": {
        "colab": {
          "base_uri": "https://localhost:8080/"
        },
        "id": "z6NRmJakqa6v",
        "outputId": "b623053f-f967-465e-9a07-f3037b0f0989"
      },
      "execution_count": 43,
      "outputs": [
        {
          "output_type": "stream",
          "name": "stdout",
          "text": [
            "1 validation error for Engineer\n",
            "experiences\n",
            "  Value error, Python engineer must have at least 3 years of experience [type=value_error, input_value=[2], input_type=list]\n",
            "    For further information visit https://errors.pydantic.dev/2.10/v/value_error\n"
          ]
        }
      ]
    },
    {
      "cell_type": "code",
      "source": [
        "try:\n",
        "    engineer = Engineer(name=\"John Doe\", age=30, skills=[\"Python\"], experiences=[3])\n",
        "except ValidationError as e:\n",
        "    print(e)"
      ],
      "metadata": {
        "id": "PtJMZeeRqfXo"
      },
      "execution_count": 44,
      "outputs": []
    },
    {
      "cell_type": "code",
      "source": [
        "try:\n",
        "    engineer = Engineer(name=\"John Doe\", age=30, skills=[\"Java\"], experiences=[2])\n",
        "except ValidationError as e:\n",
        "    print(e)"
      ],
      "metadata": {
        "colab": {
          "base_uri": "https://localhost:8080/"
        },
        "id": "NUzANXYvqhxg",
        "outputId": "7e0c6c09-d880-4126-db05-49aece34fb50"
      },
      "execution_count": 45,
      "outputs": [
        {
          "output_type": "stream",
          "name": "stdout",
          "text": [
            "1 validation error for Engineer\n",
            "experiences\n",
            "  Value error, Java engineer must have at least 3 years of experience [type=value_error, input_value=[2], input_type=list]\n",
            "    For further information visit https://errors.pydantic.dev/2.10/v/value_error\n"
          ]
        }
      ]
    }
  ]
}