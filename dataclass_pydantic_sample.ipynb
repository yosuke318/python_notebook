{
  "nbformat": 4,
  "nbformat_minor": 0,
  "metadata": {
    "colab": {
      "provenance": [],
      "authorship_tag": "ABX9TyNUxvmX3yYNPQMXU75k6/yJ",
      "include_colab_link": true
    },
    "kernelspec": {
      "name": "python3",
      "display_name": "Python 3"
    },
    "language_info": {
      "name": "python"
    }
  },
  "cells": [
    {
      "cell_type": "markdown",
      "metadata": {
        "id": "view-in-github",
        "colab_type": "text"
      },
      "source": [
        "<a href=\"https://colab.research.google.com/github/yosuke318/python_notebook/blob/main/dataclass_pydantic_sample.ipynb\" target=\"_parent\"><img src=\"https://colab.research.google.com/assets/colab-badge.svg\" alt=\"Open In Colab\"/></a>"
      ]
    },
    {
      "cell_type": "code",
      "execution_count": 6,
      "metadata": {
        "id": "fjISmQNhY1Pk"
      },
      "outputs": [],
      "source": [
        "import pprint"
      ]
    },
    {
      "cell_type": "code",
      "source": [
        "from dataclasses import dataclass\n",
        "@dataclass(slots=True) # __slots__を使用することでメモリ使用量を大幅に削減できます\n",
        "class Product:\n",
        "  id: int\n",
        "  name: str\n",
        "  price:float\n",
        "\n",
        "product1 = Product(id=1, name=\"apple\", price=100.0)\n",
        "pprint.pprint(product1)\n",
        "\n",
        "product2 = Product(id=\"2\", name=\"greenapple\", price=\"1000\")\n",
        "pprint.pprint(product2)"
      ],
      "metadata": {
        "colab": {
          "base_uri": "https://localhost:8080/"
        },
        "id": "QPyHrlwUZJ_0",
        "outputId": "8953a9ee-6985-4b12-928b-f13221ef1678"
      },
      "execution_count": 15,
      "outputs": [
        {
          "output_type": "stream",
          "name": "stdout",
          "text": [
            "Product(id=1, name='apple', price=100.0)\n",
            "Product(id='2', name='greenapple', price='1000')\n"
          ]
        }
      ]
    },
    {
      "cell_type": "code",
      "source": [
        "from pydantic.dataclasses import rebuild_dataclass\n",
        "from pydantic import ValidationError, Field, BaseModel\n",
        "\n",
        "\n",
        "class Book(BaseModel):\n",
        "  title: str=Field(strict=True)\n",
        "  pages: int=Field(strict=True)\n",
        "\n",
        "try:\n",
        "  book = Book(title=\"111\", pages=\"123\")\n",
        "  pprint.pprint(book)\n",
        "except ValidationError as e:\n",
        "  pprint.pprint(e)"
      ],
      "metadata": {
        "colab": {
          "base_uri": "https://localhost:8080/"
        },
        "id": "irNB2P54ZrPn",
        "outputId": "5327e9fc-7e70-4aa1-d811-891f7e787f51"
      },
      "execution_count": 23,
      "outputs": [
        {
          "output_type": "stream",
          "name": "stdout",
          "text": [
            "1 validation error for Book\n",
            "pages\n",
            "  Input should be a valid integer [type=int_type, input_value='123', input_type=str]\n",
            "    For further information visit https://errors.pydantic.dev/2.10/v/int_type\n"
          ]
        }
      ]
    },
    {
      "cell_type": "code",
      "source": [
        "from datetime import date\n",
        "from typing import Optional, List\n",
        "from pydantic import HttpUrl, Field\n",
        "\n",
        "class TecnicalBook(Book):\n",
        "  isbn: str = Field(strict=True, pattern=r'^(?:\\d{10}|\\d{13})$')\n",
        "  author: str = Field(strict=True)\n",
        "  publication_date: date = Field(strict=True)\n",
        "  programming_language: Optional[str]=Field(default=None, strict=True)\n",
        "  topics: List[str]=Field(default_factory=list)\n",
        "  edition: Optional[int] = Field(defalut=1, strict=True, ge=1)\n",
        "  publisher: str = Field(strict=True)\n",
        "  website: Optional[HttpUrl] = Field(defalut=None)\n",
        "\n",
        "  class Config:\n",
        "    extra = 'forbid'"
      ],
      "metadata": {
        "id": "HdwlJgE8b4FT"
      },
      "execution_count": 31,
      "outputs": []
    },
    {
      "cell_type": "code",
      "source": [
        "from datetime import date\n",
        "\n",
        "tech_book = TecnicalBook(\n",
        "    title=\"Python高速プログラミング\",\n",
        "    pages=300,\n",
        "    isbn=\"9784873119120\",\n",
        "    author=\"ミーカ・ルーソ\",\n",
        "    publication_date=date(2023, 1, 1),\n",
        "    programming_language=\"Python\",\n",
        "    topics=[\"最適化\", \"並列処理\", \"非同期プログラミング\"],\n",
        "    edition=2,\n",
        "    publisher=\"オライリージャパン\",\n",
        "    website=\"https://www.oreilly.co.jp/books/9784873119120/\"\n",
        ")\n",
        "\n",
        "pprint.pprint(tech_book)\n"
      ],
      "metadata": {
        "colab": {
          "base_uri": "https://localhost:8080/"
        },
        "id": "qjEMlaDafxUu",
        "outputId": "ba7ceee3-cb12-4000-ab10-5ae748e9acda"
      },
      "execution_count": 32,
      "outputs": [
        {
          "output_type": "stream",
          "name": "stdout",
          "text": [
            "TecnicalBook(title='Python高速プログラミング', pages=300, isbn='9784873119120', author='ミーカ・ルーソ', publication_date=datetime.date(2023, 1, 1), programming_language='Python', topics=['最適化', '並列処理', '非同期プログラミング'], edition=2, publisher='オライリージャパン', website=HttpUrl('https://www.oreilly.co.jp/books/9784873119120/'))\n"
          ]
        }
      ]
    }
  ]
}